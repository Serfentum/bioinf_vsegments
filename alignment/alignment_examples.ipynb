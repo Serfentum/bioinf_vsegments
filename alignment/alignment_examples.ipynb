{
 "cells": [
  {
   "cell_type": "markdown",
   "metadata": {},
   "source": [
    "# Examples of alignments with different score parameters\n",
    "Let\\`s try to align some reads with fragments of V-segments on V-segment with different parameters"
   ]
  },
  {
   "cell_type": "code",
   "execution_count": 100,
   "metadata": {},
   "outputs": [],
   "source": [
    "from Bio import pairwise2\n",
    "from Bio.pairwise2 import format_alignment\n",
    "from Bio import AlignIO\n",
    "from Bio import SeqIO\n",
    "from Bio.SeqRecord import SeqRecord\n",
    "from Bio.Align.Applications import MuscleCommandline"
   ]
  },
  {
   "cell_type": "code",
   "execution_count": 26,
   "metadata": {
    "scrolled": true
   },
   "outputs": [
    {
     "data": {
      "text/plain": [
       "[('ATATATTTGTGGG', '--------GT-GG', 4.0, 8, 13),\n",
       " ('ATATATTTGTGGG', '--------GTG-G', 4.0, 8, 13),\n",
       " ('ATATATTTGTGGG', '--------GTGG-', 4.0, 8, 12)]"
      ]
     },
     "execution_count": 26,
     "metadata": {},
     "output_type": "execute_result"
    }
   ],
   "source": [
    "# Train example\n",
    "\n",
    "# Alignment module from Biopython is similar to EMBOSS\n",
    "# pairwise alignment return list of alignments, each of them contains\n",
    "# seq1, seq2, score, start of alignment (first nongap), end of alignment (last nongap)\n",
    "\n",
    "templ = 'ATATATTTGTGGG'\n",
    "a = 'GTGG'\n",
    "pairwise2.align.localxx(templ, a)"
   ]
  },
  {
   "cell_type": "markdown",
   "metadata": {},
   "source": [
    "## Different alignments of reads on 1 allele IgV\n",
    "Load core genes and reads"
   ]
  },
  {
   "cell_type": "code",
   "execution_count": 113,
   "metadata": {},
   "outputs": [],
   "source": [
    "with open('/home/arleg/ig_construction/data/main/simple_fasta/all/ig_hv_all') as source:\n",
    "    cores = list(SeqIO.parse(source, 'fasta'))[:10]\n",
    "\n",
    "reads = []\n",
    "with open('/home/arleg/PycharmProjects/igsegments/data/SRR6435693.fasta') as source:\n",
    "    readss = SeqIO.parse(source, 'fasta')\n",
    "    for i, read in enumerate(readss):\n",
    "        reads.append(read)\n",
    "        if i > 100:\n",
    "            break"
   ]
  },
  {
   "cell_type": "code",
   "execution_count": 114,
   "metadata": {},
   "outputs": [
    {
     "data": {
      "text/plain": [
       "10"
      ]
     },
     "execution_count": 114,
     "metadata": {},
     "output_type": "execute_result"
    }
   ],
   "source": [
    "SeqIO.write(cores, '10cores', 'fasta')"
   ]
  },
  {
   "cell_type": "code",
   "execution_count": 117,
   "metadata": {},
   "outputs": [],
   "source": [
    "from v_segment_generation import combinations\n",
    "\n",
    "\n",
    "path_to_genes = '10cores'\n",
    "path_to_heptamers='../data/conserve/hv7'\n",
    "path_to_nonamers='../data/conserve/hv9'\n",
    "length=23\n",
    "monomers=('A', 'T', 'G', 'C')\n",
    "cum_distribution=(0.25, 0.5, 0.75, 1)\n",
    "\n",
    "vs = combinations(path_to_genes = '10cores',\n",
    "path_to_heptamers='../data/conserve/hv7',\n",
    "path_to_nonamers='../data/conserve/hv9',\n",
    "length=23,\n",
    "monomers=('A', 'T', 'G', 'C'),\n",
    "cum_distribution=(0.25, 0.5, 0.75, 1))"
   ]
  },
  {
   "cell_type": "code",
   "execution_count": 126,
   "metadata": {},
   "outputs": [
    {
     "name": "stdout",
     "output_type": "stream",
     "text": [
      "('CTGGGCCTGGACCCAGCAGCCCTCTGGGAAGGCGCTGGGGCACCTCAGCTCCAGGGGCAGCACACACTTCAGCCCAGCCTTTCTGGGCCAACTCTCCATCTGTAGAGACACATCCAAGGCCCAGTTATCCCTGCAGCTGAGCTCCGTGATGGCCAAGGGCAGGGCCGCACATTCCCGTGGGACACAGCGTCCCCTCGGCCCACCGGGGAACGACACAAACG', 'CTGGGCCTGGACCCAGCAGCCCTCTGGGAAGGCGCTGGGGCACCTCAGCTCCAGGGGCAGCACACACTTCAGCCCAGCCTTTCTGGGCCAACTCTCCATCTGTAGAGACACATCCAAGGCCCAGTTATCCCTGCAGCTGAGCTCCGTGATGGCCAAGGGCAGGGCCGCACA-T----T----C-C--CG-----T-----------GG---G------A--', 182.0, 0, 219)\n"
     ]
    }
   ],
   "source": [
    "print(pairwise2.align.localxx(vs[0], str(reads[0].seq))[0])"
   ]
  },
  {
   "cell_type": "code",
   "execution_count": 89,
   "metadata": {},
   "outputs": [],
   "source": [
    "f = '''CLUSTAL X (1.81) multiple sequence alignment\n",
    "\n",
    "\n",
    "COATB_BPIKE/30-81                   AEPNAATNYATEAMDSLKTQAIDLISQTWPVVTTVVVAGLVIRLFKKFSS\n",
    "Q9T0Q8_BPIKE/1-52                   AEPNAATNYATEAMDSLKTQAIDLISQTWPVVTTVVVAGLVIKLFKKFVS\n",
    "COATB_BPI22/32-83                   DGTSTATSYATEAMNSLKTQATDLIDQTWPVVTSVAVAGLAIRLFKKFSS\n",
    "COATB_BPM13/24-72                   AEGDDP---AKAAFNSLQASATEYIGYAWAMVVVIVGATIGIKLFKKFTS\n",
    "COATB_BPZJ2/1-49                    AEGDDP---AKAAFDSLQASATEYIGYAWAMVVVIVGATIGIKLFKKFAS\n",
    "Q9T0Q9_BPFD/1-49                    AEGDDP---AKAAFDSLQASATEYIGYAWAMVVVIVGATIGIKLFKKFTS\n",
    "COATB_BPIF1/22-73                   FAADDATSQAKAAFDSLTAQATEMSGYAWALVVLVVGATVGIKLFKKFVS\n",
    "\n",
    "COATB_BPIKE/30-81                   KA\n",
    "Q9T0Q8_BPIKE/1-52                   RA\n",
    "COATB_BPI22/32-83                   KA\n",
    "COATB_BPM13/24-72                   KA\n",
    "COATB_BPZJ2/1-49                    KA\n",
    "Q9T0Q9_BPFD/1-49                    KA\n",
    "COATB_BPIF1/22-73                   RA'''\n",
    "\n",
    "with open('f', 'w') as dest:\n",
    "    dest.write(f)"
   ]
  },
  {
   "cell_type": "code",
   "execution_count": 92,
   "metadata": {},
   "outputs": [
    {
     "name": "stdout",
     "output_type": "stream",
     "text": [
      "SingleLetterAlphabet() alignment with 7 rows and 52 columns\n",
      "AEPNAATNYATEAMDSLKTQAIDLISQTWPVVTTVVVAGLVIRL...SKA COATB_BPIKE/30-81\n",
      "AEPNAATNYATEAMDSLKTQAIDLISQTWPVVTTVVVAGLVIKL...SRA Q9T0Q8_BPIKE/1-52\n",
      "DGTSTATSYATEAMNSLKTQATDLIDQTWPVVTSVAVAGLAIRL...SKA COATB_BPI22/32-83\n",
      "AEGDDP---AKAAFNSLQASATEYIGYAWAMVVVIVGATIGIKL...SKA COATB_BPM13/24-72\n",
      "AEGDDP---AKAAFDSLQASATEYIGYAWAMVVVIVGATIGIKL...SKA COATB_BPZJ2/1-49\n",
      "AEGDDP---AKAAFDSLQASATEYIGYAWAMVVVIVGATIGIKL...SKA Q9T0Q9_BPFD/1-49\n",
      "FAADDATSQAKAAFDSLTAQATEMSGYAWALVVLVVGATVGIKL...SRA COATB_BPIF1/22-73\n"
     ]
    }
   ],
   "source": [
    "for i in AlignIO.parse('f', 'clustal'):\n",
    "    print(i)"
   ]
  },
  {
   "cell_type": "code",
   "execution_count": 102,
   "metadata": {},
   "outputs": [
    {
     "data": {
      "text/plain": [
       "('',\n",
       " '\\nMUSCLE v3.8.31 by Robert C. Edgar\\n\\nhttp://www.drive5.com/muscle\\nThis software is donated to the public domain.\\nPlease cite: Edgar, R.C. Nucleic Acids Res 32(5), 1792-97.\\n\\nfasta 8 seqs, max length 296, avg  length 293\\n00:00:00    23 MB(-5%)  Iter   1    2.78%  K-mer dist pass 1\\n00:00:00    23 MB(-5%)  Iter   1  100.00%  K-mer dist pass 1\\n00:00:00    23 MB(-5%)  Iter   1    2.78%  K-mer dist pass 2\\n00:00:00    23 MB(-5%)  Iter   1  100.00%  K-mer dist pass 2\\n00:00:00    23 MB(-5%)  Iter   1   14.29%  Align node       \\n00:00:00    25 MB(-5%)  Iter   1   28.57%  Align node\\n00:00:00    25 MB(-5%)  Iter   1   42.86%  Align node\\n00:00:00    25 MB(-5%)  Iter   1   57.14%  Align node\\n00:00:00    25 MB(-5%)  Iter   1   71.43%  Align node\\n00:00:00    26 MB(-5%)  Iter   1   85.71%  Align node\\n00:00:00    26 MB(-5%)  Iter   1  100.00%  Align node\\n00:00:00    26 MB(-5%)  Iter   1  100.00%  Align node\\n00:00:00    26 MB(-5%)  Iter   1   12.50%  Root alignment\\n00:00:00    26 MB(-5%)  Iter   1   25.00%  Root alignment\\n00:00:00    26 MB(-5%)  Iter   1   37.50%  Root alignment\\n00:00:00    26 MB(-5%)  Iter   1   50.00%  Root alignment\\n00:00:00    26 MB(-5%)  Iter   1   62.50%  Root alignment\\n00:00:00    26 MB(-5%)  Iter   1   75.00%  Root alignment\\n00:00:00    26 MB(-5%)  Iter   1   87.50%  Root alignment\\n00:00:00    26 MB(-5%)  Iter   1  100.00%  Root alignment\\n00:00:00    26 MB(-5%)  Iter   1  100.00%  Root alignment\\n00:00:00    26 MB(-5%)  Iter   2   16.67%  Refine tree   \\n00:00:00    26 MB(-5%)  Iter   2   33.33%  Refine tree\\n00:00:00    26 MB(-5%)  Iter   2   50.00%  Refine tree\\n00:00:00    26 MB(-5%)  Iter   2   66.67%  Refine tree\\n00:00:00    26 MB(-5%)  Iter   2  100.00%  Refine tree\\n00:00:00    26 MB(-5%)  Iter   2   12.50%  Root alignment\\n00:00:00    26 MB(-5%)  Iter   2   25.00%  Root alignment\\n00:00:00    26 MB(-5%)  Iter   2   37.50%  Root alignment\\n00:00:00    26 MB(-5%)  Iter   2   50.00%  Root alignment\\n00:00:00    26 MB(-5%)  Iter   2   62.50%  Root alignment\\n00:00:00    26 MB(-5%)  Iter   2   75.00%  Root alignment\\n00:00:00    26 MB(-5%)  Iter   2   87.50%  Root alignment\\n00:00:00    26 MB(-5%)  Iter   2  100.00%  Root alignment\\n00:00:00    26 MB(-5%)  Iter   2  100.00%  Root alignment\\n00:00:00    26 MB(-5%)  Iter   2  100.00%  Root alignment\\n00:00:00    26 MB(-5%)  Iter   3   15.38%  Refine biparts\\n00:00:00    26 MB(-5%)  Iter   3   23.08%  Refine biparts\\n00:00:00    26 MB(-5%)  Iter   3   30.77%  Refine biparts\\n00:00:00    26 MB(-5%)  Iter   3   38.46%  Refine biparts\\n00:00:00    26 MB(-5%)  Iter   3   46.15%  Refine biparts\\n00:00:00    26 MB(-5%)  Iter   3   53.85%  Refine biparts\\n00:00:00    26 MB(-5%)  Iter   3   61.54%  Refine biparts\\n00:00:00    26 MB(-5%)  Iter   3   69.23%  Refine biparts\\n00:00:00    26 MB(-5%)  Iter   3   76.92%  Refine biparts\\n00:00:00    26 MB(-5%)  Iter   3   84.62%  Refine biparts\\n00:00:00    26 MB(-5%)  Iter   3   92.31%  Refine biparts\\n00:00:00    26 MB(-5%)  Iter   3  100.00%  Refine biparts\\n00:00:00    26 MB(-5%)  Iter   3  107.69%  Refine biparts\\n00:00:00    26 MB(-5%)  Iter   3  100.00%  Refine biparts\\n')"
      ]
     },
     "execution_count": 102,
     "metadata": {},
     "output_type": "execute_result"
    }
   ],
   "source": []
  },
  {
   "cell_type": "code",
   "execution_count": 108,
   "metadata": {},
   "outputs": [
    {
     "name": "stdout",
     "output_type": "stream",
     "text": [
      "# STOCKHOLM 1.0\n",
      "#=GF SQ 8\n",
      "IGHV1-18*02 CAGGTTCAGCTGGTGCAGTCTGGAGCTGAGGTGAAGAAGCCTGGGGCCTCAGTGAAGGTCTCCTGCAAGGCTTCTGGTTACACCTTTACCAGCTATGGTATCAGCTGGGTGCGACAGGCCCCTGGACAAGGGCTTGAGTGGATGGGATGGATCAGCGCTTACAATGGTAACACAAACTATGCACAGAAGCTCCAGGGCAGAGTCACCATGACCACAGACACATCCACGAGCACAGCCTACATGGAGCTGAGGAGCCTAAGATCTGACGACACGGCC--------------------\n",
      "#=GS IGHV1-18*02 AC IGHV1-18*02\n",
      "#=GS IGHV1-18*02 DE IGHV1-18*02\n",
      "IGHV1-18*03 CAGGTTCAGCTGGTGCAGTCTGGAGCTGAGGTGAAGAAGCCTGGGGCCTCAGTGAAGGTCTCCTGCAAGGCTTCTGGTTACACCTTTACCAGCTATGGTATCAGCTGGGTGCGACAGGCCCCTGGACAAGGGCTTGAGTGGATGGGATGGATCAGCGCTTACAATGGTAACACAAACTATGCACAGAAGCTCCAGGGCAGAGTCACCATGACCACAGACACATCCACGAGCACAGCCTACATGGAGCTGAGGAGCCTGAGATCTGACGACATGGCCGTGTATTACTGTGCGAGAGA\n",
      "#=GS IGHV1-18*03 AC IGHV1-18*03\n",
      "#=GS IGHV1-18*03 DE IGHV1-18*03\n",
      "IGHV1-18*04 CAGGTTCAGCTGGTGCAGTCTGGAGCTGAGGTGAAGAAGCCTGGGGCCTCAGTGAAGGTCTCCTGCAAGGCTTCTGGTTACACCTTTACCAGCTACGGTATCAGCTGGGTGCGACAGGCCCCTGGACAAGGGCTTGAGTGGATGGGATGGATCAGCGCTTACAATGGTAACACAAACTATGCACAGAAGCTCCAGGGCAGAGTCACCATGACCACAGACACATCCACGAGCACAGCCTACATGGAGCTGAGGAGCCTGAGATCTGACGACACGGCCGTGTATTACTGTGCGAGAGA\n",
      "#=GS IGHV1-18*04 AC IGHV1-18*04\n",
      "#=GS IGHV1-18*04 DE IGHV1-18*04\n",
      "IGHV1-18*01 CAGGTTCAGCTGGTGCAGTCTGGAGCTGAGGTGAAGAAGCCTGGGGCCTCAGTGAAGGTCTCCTGCAAGGCTTCTGGTTACACCTTTACCAGCTATGGTATCAGCTGGGTGCGACAGGCCCCTGGACAAGGGCTTGAGTGGATGGGATGGATCAGCGCTTACAATGGTAACACAAACTATGCACAGAAGCTCCAGGGCAGAGTCACCATGACCACAGACACATCCACGAGCACAGCCTACATGGAGCTGAGGAGCCTGAGATCTGACGACACGGCCGTGTATTACTGTGCGAGAGA\n",
      "#=GS IGHV1-18*01 AC IGHV1-18*01\n",
      "#=GS IGHV1-18*01 DE IGHV1-18*01\n",
      "IGHV1-2*01 CAGGTGCAGCTGGTGCAGTCTGGGGCTGAGGTGAAGAAGCCTGGGGCCTCAGTGAAGGTCTCCTGCAAGGCTTCTGGATACACCTTCACCGGCTACTATATGCACTGGGTGCGACAGGCCCCTGGACAAGGGCTTGAGTGGATGGGACGGATCAACCCTAACAGTGGTGGCACAAACTATGCACAGAAGTTTCAGGGCAGGGTCACCAGTACCAGGGACACGTCCATCAGCACAGCCTACATGGAGCTGAGCAGGCTGAGATCTGACGACACGGTCGTGTATTACTGTGCGAGAGA\n",
      "#=GS IGHV1-2*01 AC IGHV1-2*01\n",
      "#=GS IGHV1-2*01 DE IGHV1-2*01\n",
      "IGHV1-2*03 CAGGTGCAGCTGGTGCAGTCTGGGGCTGAGGTGAAGAAGCTTGGGGCCTCAGTGAAGGTCTCCTGCAAGGCTTCTGGATACACCTTCACCGGCTACTATATGCACTGGGTGCNACAGGCCCCTGGACAAGGGCTTGAGTGGATGGGATGGATCAACCCTAACAGTGGTGGCACAAACTATGCACAGAAGTTTCAGGGCAGGGTCACCATGACCAGGGACACGTCCATCAGCACAGCCTACATGGAGCTGAGCAGGCTGAGATCTGACGACACGGCCGTGTATTACTGTGCGAGAGA\n",
      "#=GS IGHV1-2*03 AC IGHV1-2*03\n",
      "#=GS IGHV1-2*03 DE IGHV1-2*03\n",
      "IGHV1-2*02 CAGGTGCAGCTGGTGCAGTCTGGGGCTGAGGTGAAGAAGCCTGGGGCCTCAGTGAAGGTCTCCTGCAAGGCTTCTGGATACACCTTCACCGGCTACTATATGCACTGGGTGCGACAGGCCCCTGGACAAGGGCTTGAGTGGATGGGATGGATCAACCCTAACAGTGGTGGCACAAACTATGCACAGAAGTTTCAGGGCAGGGTCACCATGACCAGGGACACGTCCATCAGCACAGCCTACATGGAGCTGAGCAGGCTGAGATCTGACGACACGGCCGTGTATTACTGTGCGAGAGA\n",
      "#=GS IGHV1-2*02 AC IGHV1-2*02\n",
      "#=GS IGHV1-2*02 DE IGHV1-2*02\n",
      "IGHV1-2*04 CAGGTGCAGCTGGTGCAGTCTGGGGCTGAGGTGAAGAAGCCTGGGGCCTCAGTGAAGGTCTCCTGCAAGGCTTCTGGATACACCTTCACCGGCTACTATATGCACTGGGTGCGACAGGCCCCTGGACAAGGGCTTGAGTGGATGGGATGGATCAACCCTAACAGTGGTGGCACAAACTATGCACAGAAGTTTCAGGGCTGGGTCACCATGACCAGGGACACGTCCATCAGCACAGCCTACATGGAGCTGAGCAGGCTGAGATCTGACGACACGGCCGTGTATTACTGTGCGAGAGA\n",
      "#=GS IGHV1-2*04 AC IGHV1-2*04\n",
      "#=GS IGHV1-2*04 DE IGHV1-2*04\n",
      "//\n",
      "\n"
     ]
    }
   ],
   "source": []
  },
  {
   "cell_type": "code",
   "execution_count": 110,
   "metadata": {
    "scrolled": false
   },
   "outputs": [],
   "source": [
    "for i in pairwise2.align.localxx(allele.seq, reads[1])[0]:\n",
    "    print(i, end='\\n***\\n')\n"
   ]
  },
  {
   "cell_type": "code",
   "execution_count": 7,
   "metadata": {},
   "outputs": [
    {
     "name": "stdout",
     "output_type": "stream",
     "text": [
      "caggtgc-agctggtgcag-tctggggctgaggtgaagaagcctgggtcctcggtgaaggtctcctgcaaggcttctggaggcaccttcagcagctatg-ctatcagctgggtgcgacaggcccctggacaagggcttgagtggatgggag-ggatcatccctatct-ttggtac-agcaaactacgcacagaagttccagggcagagtcacgattaccgcggacgaa-tccacgagcacagcctacatggagctgagcagcctgagatctgaggacacggccgtgtattactgtgcgagaga\n",
      "|||||||||||||||||||||||||||||||||||||||||||||||||||||||||||||||||||||||||||||||||||||||||||||||||||||||||||||||||||||||||||||||||||||||||||||||||||||||||||||||||||||||||||||||||||||||||||||||||||||||||||||||||||||||||||||||||||||||||||||||||||||||||||||||||||||||||||||||||||||||||||||||||||||||||||||||\n",
      "caggt-ccagctggtgca-atctggggctgaggtgaagaagcctgggtcctcggtgaaggtctcctgcaaggcttctggaggcaccttcagcagctat-actatcagctgggtgcgacaggcccctggacaagggcttgagtggatggga-aggatcatccctatc-cttggta-tagcaaactacgcacagaagttccagggcagagtcacgattaccgcggac-aaatccacgagcacagcctacatggagctgagcagcctgagatctgaggacacggccgtgtattactgtgc--gaga\n",
      "  Score=287\n",
      "\n"
     ]
    }
   ],
   "source": [
    "fas = '''>L22582|IGHV1-69*01|Homo sapiens|F|V-REGION|376..671|296 nt|1| | | | |296+0=296| | |\n",
    "caggtgcagctggtgcagtctggggctgaggtgaagaagcctgggtcctcggtgaaggtc\n",
    "tcctgcaaggcttctggaggcaccttcagcagctatgctatcagctgggtgcgacaggcc\n",
    "cctggacaagggcttgagtggatgggagggatcatccctatctttggtacagcaaactac\n",
    "gcacagaagttccagggcagagtcacgattaccgcggacgaatccacgagcacagcctac\n",
    "atggagctgagcagcctgagatctgaggacacggccgtgtattactgtgcgagaga\n",
    ">Z27506|IGHV1-69*02|Homo sapiens|F|V-REGION|1..294|294 nt|1| | | | |294+0=294| | |\n",
    "caggtccagctggtgcaatctggggctgaggtgaagaagcctgggtcctcggtgaaggtc\n",
    "tcctgcaaggcttctggaggcaccttcagcagctatactatcagctgggtgcgacaggcc\n",
    "cctggacaagggcttgagtggatgggaaggatcatccctatccttggtatagcaaactac\n",
    "gcacagaagttccagggcagagtcacgattaccgcggacaaatccacgagcacagcctac\n",
    "atggagctgagcagcctgagatctgaggacacggccgtgtattactgtgcgaga'''\n",
    "\n",
    "x = pairwise2.align.globalxx('''caggtgcagctggtgcagtctggggctgaggtgaagaagcctgggtcctcggtgaaggtc\n",
    "tcctgcaaggcttctggaggcaccttcagcagctatgctatcagctgggtgcgacaggcc\n",
    "cctggacaagggcttgagtggatgggagggatcatccctatctttggtacagcaaactac\n",
    "gcacagaagttccagggcagagtcacgattaccgcggacgaatccacgagcacagcctac\n",
    "atggagctgagcagcctgagatctgaggacacggccgtgtattactgtgcgagaga'''.replace('\\n', ''), \n",
    "'''caggtccagctggtgcaatctggggctgaggtgaagaagcctgggtcctcggtgaaggtc\n",
    "tcctgcaaggcttctggaggcaccttcagcagctatactatcagctgggtgcgacaggcc\n",
    "cctggacaagggcttgagtggatgggaaggatcatccctatccttggtatagcaaactac\n",
    "gcacagaagttccagggcagagtcacgattaccgcggacaaatccacgagcacagcctac\n",
    "atggagctgagcagcctgagatctgaggacacggccgtgtattactgtgcgaga'''.replace('\\n', ''))\n",
    "print(format_alignment(*x[0]))"
   ]
  }
 ],
 "metadata": {
  "kernelspec": {
   "display_name": "Python 3",
   "language": "python",
   "name": "python3"
  },
  "language_info": {
   "codemirror_mode": {
    "name": "ipython",
    "version": 3
   },
   "file_extension": ".py",
   "mimetype": "text/x-python",
   "name": "python",
   "nbconvert_exporter": "python",
   "pygments_lexer": "ipython3",
   "version": "3.6.4"
  }
 },
 "nbformat": 4,
 "nbformat_minor": 2
}
