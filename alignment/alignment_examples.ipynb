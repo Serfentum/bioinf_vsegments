{
 "cells": [
  {
   "cell_type": "markdown",
   "metadata": {},
   "source": [
    "# Examples of alignments with different score parameters\n",
    "Let\\`s try to align some reads with fragments of V-segments on V-segment with different parameters"
   ]
  },
  {
   "cell_type": "code",
   "execution_count": 212,
   "metadata": {},
   "outputs": [],
   "source": [
    "from Bio import pairwise2\n",
    "from Bio.pairwise2 import format_alignment\n",
    "from Bio import AlignIO\n",
    "from Bio import SeqIO\n",
    "from Bio.SeqRecord import SeqRecord\n",
    "from Bio.Align.Applications import MuscleCommandline\n",
    "import random\n",
    "from auxiliary import *"
   ]
  },
  {
   "cell_type": "code",
   "execution_count": 26,
   "metadata": {
    "scrolled": true
   },
   "outputs": [
    {
     "data": {
      "text/plain": [
       "[('ATATATTTGTGGG', '--------GT-GG', 4.0, 8, 13),\n",
       " ('ATATATTTGTGGG', '--------GTG-G', 4.0, 8, 13),\n",
       " ('ATATATTTGTGGG', '--------GTGG-', 4.0, 8, 12)]"
      ]
     },
     "execution_count": 26,
     "metadata": {},
     "output_type": "execute_result"
    }
   ],
   "source": [
    "# Train example\n",
    "\n",
    "# Alignment module from Biopython is similar to EMBOSS\n",
    "# pairwise alignment return list of alignments, each of them contains\n",
    "# seq1, seq2, score, start of alignment (first nongap), end of alignment (last nongap)\n",
    "\n",
    "templ = 'ATATATTTGTGGG'\n",
    "a = 'GTGG'\n",
    "pairwise2.align.localxx(templ, a)"
   ]
  },
  {
   "cell_type": "markdown",
   "metadata": {},
   "source": [
    "## Different alignments of reads on 1 allele IgV\n",
    "Ok, how reads can align on allele? There are several variants"
   ]
  },
  {
   "cell_type": "code",
   "execution_count": 127,
   "metadata": {},
   "outputs": [],
   "source": [
    "# Example allele of IgH v segment with heptamer, spacer and nonamer\n",
    "allele = 'CTGGGCCTGGACCCAGCAGCCCTCTGGGAAGGCGCTGGGGCACCTCAGCTCCAGGGGCAGCACACACTTCAGCCCAGCCTTTCTGGGCCAACTCTCCATCTGTAGAGACACATCCAAGGCCCAGTTATCCCTGCAGCTGAGCTCCGTGATGGCCAAGGGCAGGGCCGCACATTCCCGTGGGACACAGCG-----------------------ACACAAACG'\n",
    "\n",
    "# Load few reads\n",
    "reads = list(SeqIO.parse('some_reads', 'fasta'))[:10]"
   ]
  },
  {
   "cell_type": "code",
   "execution_count": 131,
   "metadata": {},
   "outputs": [
    {
     "name": "stdout",
     "output_type": "stream",
     "text": [
      "CTGGGCCTGGACCC-AGCAGCCCTCTGGGAAGGCGCTGGGGC-A-CC-TCAGCTCCAGGGGCAGCACACACTTCAGCCCAG--CCTTTCTGGGC-C---AACTCTCC-AT-CTG--T-A---GAGACAC--A----TC-C---AAGGCCCAGTTAT-CCCTGCAGCTGAG--CTCCGTGA-T--GGCCA---AGGGC--AGGGCC---GC----AC-----A---TTCCC-G--T-GGGACAC--AGCG--------------------------AC-----AC-----A-----A-----------AC--G\n",
      "CT----C---ACCCTA--A-CCCTC-----A--C-C-----CTAACCCTCA-C-CC----G-A--AC-C-C-TCA-CCC-GAACC---CT---CACCCGAA--C-CCGA-AC--CCTCACCCGA-AC-CCTAACCCTCACCCGAA--CCC---TA-ACCC-G--GCT-AGGGCT--G-G-GTTAGG---GTTAGGG-TTAGGG--TTAG-GGTTA-GGGTTAGGGTT---AGGGTTGGG----GTAG-G-----------------------GGTA-GGGGTA-GGGGTAGGGGTAGGGGTGGGGGTA-GGG\n",
      "114.0\n",
      "0\n",
      "312\n",
      "\n",
      "CT--GGGCCT--GGACCCAGC--AGCCC--TCT-GGG--A-----AGGCGCT--GGG--GC----ACC---TC-AGC--TCC-AGGG---GC----AGC----A-----C-----A-----CA-----C---TTCAG----C-----C-----C-----AGCC--TT----TCT-GGG---CC--AACTC-T--CCATCTGTAGAGACACA-T--CC--AAGGCCCAGTTAT-CCCTGCAG-C--TGAG-CTCCGTGATGG-CC-AAGGGCAGGGCCGCA--C--ATT--CCCGTGGGACAC--AG--C--G-----------------------A-C---AC----AAAC-G-----\n",
      "GTTAGGG--TTAGG-----G-TTAG---GGT-TAGGGTTAGGGTTAGG-G-TTAGGGTTG-GGTTA--GGGT-TAG-GGT--TAGGGTTAG-GGTTAG-GGTTAGGGTTCGGGTTAGGGTTC-GGGTTCGGGTTC-GGGTTCGGGTTCGGGTTCGGGTTAG--GGTTAGGGT-TAGGGTAACCCTAAC-CCTAACC--C--T--A-AC-C-CTAACCCTAA--CCC---TA-ACCCT--A-ACCCT-A-AC-CC-T-A---ACCCAA----A---CC-CAAACCCA--AACCC----GAC-CCCA-AACCCG-----------------------AACCCGACCCCGAAACCGAACCC\n",
      "126.0\n",
      "1\n",
      "353\n",
      "\n",
      "CTGGGCCTGGA-CCC-AGCAGCCCT--C--TGGGAAGGCGCTGGGGC-A-CCTC-AG-CTCC-AGGGG-C---AG-C---A-C---A-C---A-CTTC--A----G--CCC-A----G--CCTTTCTG-----G-----G--CC--AACTC-T--CCATCTGTAGA---GACACATCC-AAGGCCCAGT-TA---TCCCTGCAGC-T--G----AGC--TCC--G--T--G----A---T--GGCC---A-----AGGGC--AGGGCC-GCAC-----A---T-TCCCG--T--GGGACACA-GC-G-----------------------ACACAAAC------------------G\n",
      "C----CCT--AACCCTA--A-CCCTAACCCT---AA--C-C-----CTAACC-CTA-AC-CCTA----ACCCTA-ACCCTAACCCGAACCCGAAC--CCGAACCCGAACCCGAACCCGAACC---C-GAACCCGAACCCGAACCCGAAC-CCTAACC--C--TA-ACCCGA-AC--CCGAA--CCC-G-ATAGGGT---TG--G-GTTAGGGTTAG-GGT--TAGGGTTAGGGTTAGGGTTAGG--GTTAGGGTTAGGG-TTAGGG--TG-A-GGGTGAGGGTGT---GGGTTTGGG-----TG-TG-------------------------------GGTGGGGGTGTGGGTGGGG\n",
      "118.0\n",
      "0\n",
      "357\n",
      "\n",
      "CT--GGGCCT--GGACCCAGC--AGCCC--TCT-GGGA--AGGCGCTG--GGGCACCTC-AGC--TCC------AGGGGC-AGCACAC----AC---TTCAGCCC----AGCC--TT----T-C---T--GGGC--CAA-----C---T-C---T-C-----CA---T-C---T--G--T-AG----AG----ACACATCC-AAGGCCCAGTTAT-CCCTGCAGCTGAGCTCCGTGATGG-CC--AAGGGC---AGGG-CCGC-ACATTCCCGTGGGACACAGCG------------------------A--C--A--C--AAACG\n",
      "GTTAGGG--TTAGG-----G-TTAG---GGT-TAGGG-TTAGG-G-T-TAGGG----T-TAG-GGT--TGGGTTAGGGG-TAG-----GGTTA-GGGTT-AG---GGTTAG--GGTTAGGGTTCGGGTTAGGG-TTC--GGGTTCGGGTTCGGGTTCGGGTTC-GGGTTCGGGTTAGGGTTAGGGTTAGGGTTA-AC--CCTAA--CCC---TA-ACCCT--A----A-C-CC-T-A---ACCCTAA---CCCTA---ACC-CTA-A--CCC-T---A-AC--C------------------------CAAACCCAAACCCAAACC\n",
      "115.0\n",
      "1\n",
      "326\n",
      "\n",
      "CTGGGCCT--GGACCCAGC--AGCCC--TCTGGGA--AGGCGCTG--GGGCACCTC-AGC--TCC-AGGGGC--AGCACACAC--TTCAGCCCAGCC-TT----TCT-GGGCC--AACTC-T--CCATCTGTAGAGACACATCC-AAGGCCCAGTTAT-CCCTGCAG-C--TGAG-CTCCGTGATGG-CC-AAGGGCAGGGCCGCA-C---ATT--CCCGTGGGACACAGCG-----------------------ACA--C---AA----A-CG\n",
      "---GG--TTAGG-----G-TTAG---GGT-TGGG-TTAGG-G-T-TAGGG----T-TAG-GGT--TA-GGG-TTAG-------GGTT-AG----G--GTTAGGGT-TAGGG--TTAAC-CCTAACC--C--T----A-AC--CCTAA--CCC---TA-ACCCT--A-ACCCT-A-AC-CC-T-A---ACCCAA---C----CC-CAACCCCA--AACCC-T---AC-C--C-------------------------CAAACCCTAACCCTAAC-\n",
      "103.0\n",
      "3\n",
      "273\n",
      "\n",
      "CTGGGCCTGGA-CCC-AGCA-GC---CCTCTGGGAAGGCGCTGGGGC-AC-CTCAGCT--CCAGGGGC-AGCACACACTTCAG-CCCAG-CCTTTCTGGGCCAACTC-T--CCATCTGTAGAGACACATCC-AAGGCCCAG--TTA---TCCCTGC--AGCTGAGCTCCGTGATGGCCA---AGGGC--AGGGCCGCACATTCCC-G--T--GGGAC--ACAGCG-----------------------ACACAAACG\n",
      "----ACCT--AACCCTA--ACGCTAACC-CT---AA--C-C-----CTA-AC-C--CTAACC-----CTA--AC-C-C-T-A-ACCCA-ACC---CT-----AAC-CCTAACC--C--T----A-AC--CCTAA---CCAGGGTTAGGGT---T--TTAG--G-G-T---T-A-GG---GTTAGGG-TTA-GG--G----TT---AGGGTTAGGG--TTA-AG-G-------------------------------G\n",
      "97.0\n",
      "5\n",
      "257\n",
      "\n",
      "CTGGGCCTGGA-CCCAG--C--AG--CCCT--C--TGGGAAGGCGCTGGGGC-A-CCTC-AG-CTCC-AGGGGCAGC---A-C---A-C--A-CTTC--AG-CCC-AG-CC-T-----TT--CTGGGCC-AACTC-T----CCA-T--C--TG-----TAGAGACACATCC-AAGGCCCAGTTAT-CCCTGCAG-CT--GAG-CTCCGTGA-T--GGCCA---AGGGC--AGGGCCGC--AC-----A---TTCCC-G--T-GGGACAC--AGCG-----------------------AC---AC-----A-----------A-----AC--G\n",
      "C----CCT--AACCCA-AACCCA-AACCCTAACCCT---AA--C-C-----CTAACC-CTA-AC-CCTA-----A-CCCTAACCCTAACCCAAC--CCTA-ACCCTA-ACCCTAACCCTTAAC----CCTAAC-CCTAAAACC-CTAACCCT-AACCCTA-A-A-AC--CCTAA--CCC-G--A-ACCC-G-A-AC-CCGA-AC-CCG-G-GTTAGG---GTTAGGG-TTA-GG--G-TTA-GGGTTAGGGTT---AGGGTTGGG----GTAG-G-------------------------GTTA-GGGGTAGGGTTGGGGGGAGGGTTA-GGG\n",
      "119.0\n",
      "0\n",
      "333\n",
      "\n",
      "CT-GGGCCT--GGACCCAGC--AGCCC--TCT-GGGA--AGGCGCT-GG---GGCACC-TC-AGC--TCC-AGGGGC--AGCACACAC--TTCAGCCCAGCC-TT----TCT-GGGCCA--AC---TCTCCA----TCT-G--T-AG----AG----AC-----AC-----A---TCCA-----AGGCCC---AG--TTAT--CCCTGCAG-C--TGAG-CTCCGTGATGG-CC--AAGGGC---AGGG-CCGC-ACATTCCCGTGGGACACAGCG-----------------------ACA-C---AAA---C--G\n",
      "-TAGGG--TTAGG-----G-TTAG---GGT-TAGGG-TTAGG-G-TTGGTTAGG----GT-TAG-GGT--TA-GGG-TTAG-------GGTT-AG----G--GTTAGGGT-TAGGG---TTA-GGGT-T--AGGGGT-TAGGGTTAGGGTTAGGGTTA-GGGTTA-GGGTTAGGGT-CAGGGTTAGG---GTTAGGCTTATAACCCT--A-ACCCT-A-AC-CC-T-A---ACCCTAA---CCCTA---ACC-CTA-A--CCC-T---A-AC--C-------------------------CAACCCCAAACCCCAAC\n",
      "112.0\n",
      "1\n",
      "317\n",
      "\n",
      "-CTGGGCCTGGA-CCC-AGCAGCCCT--C--TGGGAAGGCGCTGGGGC-A-CCTC-AG-CTCCAGGGGCAGCACAC-A-CTTC--AG-CCC-AG-CCTTTCTGGG--CC--AACTCTCCAT-CTG--TAGAGACAC--A----T--CC--AAGG-CCCA-G-TTA---TCCCTGCAGCTGAGCTCCGTGATGGCCA---AGGGC--AGGGCCGCACATTCCC-GTGG--GACACAGCG-----------------------ACACAAACG\n",
      "AC----CCT--AACCCTA--A-CCCTAACCCT---AA--C-C-----CTAACC-CTA-AC-CCA-----A-C-C-CTAAC--CCTA-ACCCTA-ACC---CT---AACCCTAAC-C-CCA-AC--CCT--A-AC-CCTAACCCTAACCCTAA--ACCCAAGGTTAGGGT---T--AG--G-G-T---T-A-GG---GTTAGGG-TTA-GG--G----TT---AG-GGTTG-----G-G-------------------------------G\n",
      "103.0\n",
      "1\n",
      "270\n",
      "\n",
      "C-TGGG--CC-TGGA-CCC-AGCAGCCCT--C--TGGGAAGGCGCTGGGGCA-CCTC-AG-CTCC-AGGGGCAGCACAC-A-C--TTCAG-CCC-AG-CCTTTCTGGG----CC--AACTC-T--CCATCTGTAGAGACACATCC-AAGGCCCAGTTAT-CCCTGCAG-CT--GAG-CTCCGTGATGG-CC--AAGGGCAGGGCCGCA-C---AT----T--CCCGTGGGACAC--AGCG--------------------------AC-----AC-----A-----A-----AC-------------G\n",
      "CCT---AACCCT--AACCCTA--A-CCCTAACCCT---AA--C-C-----CAACC-CTA-AC-CCTA-----A-C-C-CTAACCCTT-A-ACCCTA-ACC---CT---AAAACCCTAAC-CCTAACC--C--TA-A-A-AC--CCTAA--CCC-G--A-ACCC-G-A-AC-CCGA-AC-CC--GA---ACCCGAA---C----CCG-AACCCGA-ACCCTAACCC-TGGG----TTAG-G-----------------------GTTA-GGGTTA-GGGTTAGGGTTAGGGTTA-GGGTTGGGGGTTGG\n",
      "114.0\n",
      "0\n",
      "308\n",
      "\n"
     ]
    }
   ],
   "source": [
    "# Simple local alignment\n",
    "for read in reads:\n",
    "    for x in pairwise2.align.localxx(allele, read.seq)[0]:\n",
    "        print(x)\n",
    "    print()"
   ]
  },
  {
   "cell_type": "markdown",
   "metadata": {},
   "source": [
    "Jupyter cell is not the best way to illustrate alignment, yet you can see that we have many gaps in both template and read. We don\\`t want such behaviour, cause our template is a continious fragment with defined length. To make it better we can use different penalty for gap."
   ]
  },
  {
   "cell_type": "code",
   "execution_count": 134,
   "metadata": {},
   "outputs": [
    {
     "name": "stdout",
     "output_type": "stream",
     "text": [
      "------------CTGGGCCTGGACC-CAGCAG--CCCTCTGG-GAAGGCGCTGGGGCACCTCAGCTC-CAGGGGCAGCACACACTTCAGCCCAGCCTTT-CTGGGCCAACTCTCCATCTGTAGAGACACATCCAAGGCCCAG-TTATCCCTGCAGCTGAGCTCCGTG-ATGGCCAAGGGCAGGGCCGCACATTCCCGTGGGACACAGCG-----------------------ACACAAACG\n",
      "CTCACCCTAACCCTCACCCTAACCCTCACCCGAACCCTCACCCGAACCCTCACCCGAACCCGAACCCTCACCCGAACCCTAACCCTCACCCGAACCCTAACCCGGCTAGGGCT--GGGT-TAGGGTTAGGGTTAGGGTTAGGGTTAGGGTTAGGGTTAGGGTTGGGGTAGGGGTAGGGGTAGGGGTAGGGGTAGGGGTGGG-GGTAGGG--------------------------------\n",
      "79.0\n",
      "12\n",
      "209\n",
      "\n",
      "------------------------------------------------------------CTGGGCCTGGACCCAGC---AGCCCTCTGGGAAGGCGCTGGGGCACCTCAGCTCCAGGGGCAGCACACACTTCAGCCCAGCCTTTCTG---GGCCAACTCTCCATCTGTAGAGACACATCCAAGGCCCAGT--TATCCCTGCAGCTGAGC-TCCGTGATGGCCAAGGGCAGGGCCG-CAC-ATTCCCGTGGGACACAGCG-----------------------ACACAAACG\n",
      "GTTAGGGTTAGGGTTAGGGTTAGGGTTAGGGTTAGGGTTAGGGTTGGGTTAGGGTTAGGGTTAGGGTTAGGGTTAGGGTTAGGGTTCGGGTTAGG-GTTCGGG---TTCGGGTTCGGGTTCGGGTTCGGGTTCGGGTTAGGGTTAGGGTTAGGGTAAC-C-CTAACCCTA-ACCCTAACCCTAACCCTAACCCTAACCCTAACCCTAACCCTAACCCAAACCCAAACCCAAACCCGACCCCAAACCCGAACCCGACCCCGAAACCGAACCC---------------------\n",
      "73.0\n",
      "61\n",
      "271\n",
      "\n",
      "--------------------CTGGGCCTGGACCC-AGC---AGCCCTCTGGG-AAGGCGCTGGGGCACCTCAGCTCCAGGGGCAGCACACACTTCAGCCC-AGCCTTT-CTGGG-CC--AACTCTCCATCTGTAGA-GACACATCCAAGGCCCAGTTATCCCTGCAGCTGAGCTCCGTGAT-GGCCAAGGGCAGGGCCGCACATTCCCGTGGGACACAGCG-----------------------ACACAAACG---\n",
      "CCCTAACCCTAACCCTAACCCTAACCCT-AACCCTAACCCTAACCCTAACCCTAACCCGAACCCGAACCCGAACCCGAACCCGAACCCGAACCCGAACCCGAACCCGAACCCGAACCCTAACCCT-AACCCGAACCCGAACCCGATAGGGTTGGGTTAGGGTTAGGGTTAGGGTTAGGGTTAGGGTTAGGGTTAGGGTTAGGGTTAGGGTGAGGGTGAGGGTGTGGGTTTGGGTGTGGGTGGGGGTGTGGGTGGGG\n",
      "75.0\n",
      "20\n",
      "253\n",
      "\n",
      "-CTGGGCCTGGACCCAGC---AGCCCTCTGGGAAGGCGCTGGGGCACC-TCAGCTCCAGGGGCAGCAC-ACACTTCAGCCCAGCCTTTCTGGGCCAACTCTCCATCTGTAGAGA-CACATCCAAGGCCCAGTTATCCCTGCAGCTGAGCTCCGTGATGGCCA-AGGGCAGGGCCGCACATTCCCGTGGGACACAGCG-----------------------ACACAAACG\n",
      "GTTAGGGTTAGGGTTAGGGTTAGGGTTAGGGTTAGG-GTTAGGGTTGGGTTAGGGGTAGGGTTAGGGTTAGGGTTAGGGTTAG-GGTTC-GGG-TTAGGGTTCGGGT-TCGGGTTCGGGTTCGGGTTCGGGTTCGGGTTAGGGTTAGGGTTAGGGTTAACCCTAACCCTAACCCTAACCCTAAC-CCTAAC-CCTAACCCTAACCCTAACCCAAACCCAAACCCAAACC\n",
      "70.0\n",
      "2\n",
      "229\n",
      "\n",
      "CTGGGCCTGGACCCAGCAGCCCTCTGGGAAGGCGCTGGGGCACC-TCAGCTCCAGGGGCAGCAC-ACACTTCAGCCCAGCCTTTCTGGGCCAACTCTCCATCTGTAGAGACACATCCAAGGCCCAGTTATCCCTGCAGCTGAGCTC-CGTGATGGCCAAGGGCAGGGCCGCACATTCCCGTGGGACACAGCG-----------------------ACACAAACG\n",
      "--------------------GGTTAGGGTTAGGGTTGGGTTAGGGTTAGGGTTAGGGTTAGGGTTAGGGTTAGGGTTAG-GGTT-AGGGTTAAC-C-CTAACCCTA-ACCCTAACCCTA-ACCC---TAACCCTAACCCTAACCCAACCCCAACCCCAAACCCTACCCCAAACCCTAAC-CCTAAC--------------------------------------\n",
      "61.0\n",
      "22\n",
      "186\n",
      "\n",
      "CTGGGCCTGGACCCAGCAGCCCTCTGGGAAGGCGCTGGGGCACCTCAGCTCCAGGGGCAGCACACACTTCAGCCC-AGCCTTT-C--TGGGCCAACTCTCCATCTGTAGAGACACATCCAAGGCCCAGTTATCCCTGCAGCTGAGCTCCG-TGATGGCCAAGGGCAGGGCCGCACATTCCCGTGGGACACAGCG-----------------------ACACAAACG\n",
      "-----------------------------------------ACCT-AACCCTAACGCTAACCCTAACCCTAACCCTAACCCTAACCCTAACCCAAC-C-CTAACCCTA-ACCCTAACCCTAACCAGGGTTAGGGTTTTAG--G-GTTAGGGTTAGGGTTAGGGTTAGGG--TTAGGGTTAAG-GG-----------------------------------------\n",
      "54.0\n",
      "41\n",
      "185\n",
      "\n",
      "-CTGGGCCTGGACCCAGCAGCCCTCTGGGAAGGCGCTGGGGC-ACCTC-AGCTCCAGGGGCAGCACACACTTCAGCCCAGCCTTT-C--TGGGCC--AACTCTCCATCTGTAGAGACACATCC-AAGGCCC-AGTTATC-CCTGCAGCTGAGCTCCGTGAT-GGCCAAGGGCAGGGCCGCACATTCCCGT--GGGACACAGCG-----------------------ACACAAACG-\n",
      "CCCTAACCCAAACCCA--AACCCTAACCCTA-ACCCTAACCCTAACCCTAACCCTAACCCTAACCCAACCCTAACCCTAACCCTAACCCTTAACCCTAACCCTAAAACCCTA-ACCCTAACCCTAAAACCCTAACCCGAACCCGAACCCGAAC-CCGGGTTAGGGTTAGGGTTAGGGTTAGGGTTAGGGTTAGGGTTGGGGTAGGGTTAGGGGTAGGGTTGGGGGGAGGGTTAGGG\n",
      "76.0\n",
      "1\n",
      "235\n",
      "\n",
      "-----CTGGGCCTGGACCCAGCAGCCCTCTGGGAAGGCGCTGGGGC-ACC-TCAGCTCCAGGGGCAGCAC-ACACTTCAGCCCAGCCTTTCTGGGCCAACTCTCCATCTGTAGAGACACATCCAAGGCCCAGTTATCCCTGCAGCTGAGCTCCGTGATGGCCAAGGGCAGGGCCGCACATTC-CCGTGGGACACAGCG-----------------------ACACAAACG\n",
      "TAGGGTTAGGGTTAGGGTTAGGGTTAGGGTTGGTTAGGGTTAGGGTTAGGGTTAGGGTTAGGGTTAGGGTTAGGGTTAGGGTTAGGGGTT-AGGG-TTAGGGT-TAGGGTTAGGGTTAGGGTTAGGGTCAGGGTTAGGGTTAGGCTTATAACCCT-A-ACCCTAACCCTAACCCTAACCCTAACCCTAACCCTAACCCAACCCCAAACCCCAAC----------------\n",
      "66.0\n",
      "6\n",
      "214\n",
      "\n",
      "CTGGGCCTGGACCCAGCAGCCCTCTGGGAAGGCGCTGGGGC-ACCTCAGCTCCAGGGGCAGCACACACTTCAGCCCAGCCTTTCTGGGCCAACTCTCCATCTGTAGAGACACATCCAAGGCCCA-G-TTATCCCTGCAGCTGAGCTCCGTGAT-GGCCAAGGGCAGGGCCGCACATTCCCGTGGGACACAGCG-----------------------ACACAAACG\n",
      "----------ACCC--TAACCCTAACCCTA-ACCCTAACCCTAACCCTAACCCAACCCTAACCCTAACCCTAACCCTAACCCT-AACCCCAAC-C-CTAACCCTA-ACCCTAACCCTAAACCCAAGGTTAGGGTTAGGGTTAGGGTTAGGGTTAGGGTTAGGGTTGGGG--------------------------------------------------------\n",
      "62.0\n",
      "10\n",
      "169\n",
      "\n",
      "-CTGGGCCTGGACCC-AGC---AGCCCTCTGGGAAGGCGCTGGGGCACCTCAGCTCCAGGGGC-AGCAC-ACACTTC-AGCCC-AGCCTTTCTGGGCCAACTCTCCATCTGTAGA-GA-CAC-ATCCAAGGCCC-AGTT--ATCCCTGCAGCTGAGCTCCG-TGATGGCCAAGGGCAGGGCCGCACATTCCCGTGGGACACAGCG-----------------------ACACAAACG\n",
      "CCTAACCCT-AACCCTAACCCTAACCCTAACCCAACCCTAACCCTAACCCTAACCCTTAACCCTAACCCTAAAACCCTAACCCTAACCCTAAAACCCTAAC-CCGAACCCGAACCCGAACCCGAACCCGAACCCGAACCCGAACCCTAACCCTGGGTTAGGGTTAGGGTTAGGGTTAGGG-TTAGGGTTAGGGTTGGGGGTTG-G--------------------------------\n",
      "71.0\n",
      "1\n",
      "205\n",
      "\n"
     ]
    }
   ],
   "source": [
    "# With small equal penalty for gap opening and extension\n",
    "for read in reads:\n",
    "    for x in pairwise2.align.localxs(allele, read.seq, -1, -1)[0]:\n",
    "        print(x)\n",
    "    print()"
   ]
  },
  {
   "cell_type": "markdown",
   "metadata": {},
   "source": [
    "It looks better - we have less small gaps in template, though they are still there."
   ]
  },
  {
   "cell_type": "code",
   "execution_count": 138,
   "metadata": {},
   "outputs": [
    {
     "name": "stdout",
     "output_type": "stream",
     "text": [
      "----CTGGGCCTGGACCCAGCAGCCCTCTGGGAAGGCGCTGGGGCACCTCAGCTCCAGGGGCAGCACACACTTCAGCCCAGCCTTTCTGGGCCAACTCTCCATCTGTAGAGACACATCCAAGGCCCAGTTATCCCTGCAGCTGAGCTCCGTGATGGCCAAGGGCAGGGCCGCACATTCCCGTGGGACACAGCG-----------------------ACACAAACG\n",
      "CTCACCCTAACCCTCACCCTAACCCTCACCCGAACCCTCACCCGAACCCTCACCCGAACCCGAACCCTCACCCGAACCCTAACCCTCACCCGAACCCTAACCCGGCTAGGGCTGGGTTAGGGTTAGGGTTAGGGTTAGGGTTAGGGTTAGGGTTAGGGTTGGGGTAGGGGTAGGGGTAGGGGTAGGGGTAGGGGTGGGGGTAGGG--------------------\n",
      "65.0\n",
      "4\n",
      "205\n",
      "\n",
      "----CTGGGCCTGGACCCAGCAGCCCTCTGGGAAGGCGCTGGGGCACCTCAGCTCCAGGGGCAGCACACACTTCAGCCCAGCCTTTCTGGGCCAACTCTCCATCTGTAGAGACACATCCAAGGCCCAGTTATCCCTGCAGCTGAGCTCCGTGATGGCCAAGGGCAGGGCCGCACATTCCCGTGGGACACAGCG-----------------------ACACAAACG-----------------------------------------\n",
      "GTTAGGGTTAGGGTTAGGGTTAGGGTTAGGGTTAGGGTTAGGGTTGGGTTAGGGTTAGGGTTAGGGTTAGGGTTAGGGTTAGGGTTC--GGGTTAGGGTTCGGGTTCGGGTTCGGGTTCGGGTTCGGGTTCGGGTTAGGGTTAGGGTTAGGGTAACCCTAACCCTAACCCTAACCCTAACCCTAACCCTAACCCTAACCCTAACCCTAACCCAAACCCAAACCCAAACCCGACCCCAAACCCGAACCCGACCCCGAAACCGAACCC\n",
      "61.0\n",
      "6\n",
      "225\n",
      "\n",
      "------------------CTGGGCCTGGACCCAGCAGCCCTCTGGGAAGGCGCTGGGGCACCTCAGCTCCAGGGGCAGCACACACTTCAGCCCAGCCTTTCTGGGCCAACTCTCCATCTGTAGAGACACATCCAAGGCCCAGTTATCCCTGCAGCTGAGCTCCGTGATGGCCAAGGGCAGGGCCGCACATTCCCGTGGGACACAGCG-----------------------ACACAAACG---------------\n",
      "CCCTAACCCTAACCCTAACCCTAACCCTAACCCTAACCCTAACCCTAACCCTAACCCGAACCCGAACCCGAACCCGAACCCGAACCCGAACCCGAACCCGAACCCGAACCCGAACCCTAACCCTAACCCGAACCCGAACCCGATAGGGTTGGGTTAGGGTTAGGGTTAGGGTTAGGGTTAGGGTTAGGGTTAGGGTTAGGGTTAGGGTGAGGGTGAGGGTGTGGGTTTGGGTGTGGGTGGGGGTGTGGGTGGGG\n",
      "65.0\n",
      "18\n",
      "239\n",
      "\n",
      "----CTGGGCCTGGACCCAGCAGCCCTCTGGGAAGGCGCTGGGGCACCTCAGCTCCAGGGGCAGCACACACTTCAGCCCAGCCTTTCTGGGCCAACTCTCCATCTGTAGAGACACATCCAAGGCCCAGTTATCCCTGCAGCTGAGCTCCGTGATGGCCAAGGGCAGGGCCGCACATTCCCGTGGGACACAGCG-----------------------ACACAAACG\n",
      "GTTAGGGTTAGGGTTAGGGTTAGGGTTAGGGTTAGGGTTAGGGTTGGGTTAGGGGTAGGGTTAGGGTTAGGGTTAGGGTTAGGGTTC--GGGTTAGGGTTCGGGTTCGGGTTCGGGTTCGGGTTCGGGTTCGGGTTAGGGTTAGGGTTAGGGTTAACCCTAACCCTAACCCTAACCCTAACCCTAACCCTAACCCTAACCCTAACCCAAACCCAAACCCAAACC-\n",
      "58.0\n",
      "6\n",
      "224\n",
      "\n",
      "CTGGGCCTGGACCCAGCAGCCCTCTGGGAAGGCGCTGGGGCACCTCAGCTCCAGGGGCAGCACACACTTCAGCCCAGCCTTTCTGGGCCAACTCTCCATCTGTAGAGACACATCCAAGGCCCAGTTATCCCTGCAGCTGAGCTCCGTGATGGCCAAGGGCAGGGCCGCACATTCCCGTGGGACACAGCG-----------------------ACACAAACG\n",
      "-------------------GGTTAGGGTTAGGGTTGGGTTAGGGTTAGGGTTAGGGTTAGGGTTAGGGTTAGGGTTAGGGTT-AGGGTTAACCCTAACCCTAACCCTAACCCTAACCCTAACCCTAACCCTAACCCAACCCCAACCCCAAACCCTACCCCAAACCCTAACCCTAAC---------------------------------------------\n",
      "50.0\n",
      "22\n",
      "176\n",
      "\n",
      "CTGGGCCTGGACCCAGCAGCCCTCTGGGAAGGCGCTGGGGCACCTCAGCTCCAGGGGCAGCACACACTTCAGCCCAGCCTTTCTGGGCCAACTCTCCATCTGTAGAGACACATCCAAGGCCCAGTTATCCCTGCAGCTGAGCTCCGTGATGGCCAAGGGCAGGGCCGCACATTCCCGTGGGACACAGCG-----------------------ACACAAACG\n",
      "-----------------------------------------ACCTAACCCTAACGCTAACCCTAACCCTAACCCTAACCCTAACCCTAACCCAACCCTAACCCTAACCCTAACCCTAACCAGGGTTAGGGTTTTAG--GGTTAGGGTTAGGGTTAGGGTTAGGGTTAGGGTTAAGGG--------------------------------------------\n",
      "46.0\n",
      "41\n",
      "177\n",
      "\n",
      "-------------------CTGGGCCTGGACCCAGCAGCCCTCTGGGAAGGCGCTGGGGCACCTCAGCTCCAGGGGCAGCACACACTTCAGCCCAGCCTTTCTGGGCCAACTCTCCATCTGTAGAGACACATCCAAGGCCCAGTTATCCCTGCAGCTGAGCTCCGTGATGGCCAAGGGCAGGGCCGCACATTCCCGTGGGACACAGCG-----------------------ACACAAACG\n",
      "CCCTAACCCAAACCCAAACCCTAACCCTAACCCTAACCCTAACCCTAACCCTAACCCTAACCCAACCCTAACCCTAACCCTAACCCTTAACCCTAACCCTAAAACCCTAACCCTAACCCTAAAACCCTAACCCGAACCCGAACCCGAACCCGGGTTAGGGTTAGGGTTAGGGTTAGGGTTAGGGTTAGGGTTGGGGTAGGGTTAGGGGTAGGGTTGGGGGGAGGGTTAGGG---------\n",
      "65.0\n",
      "19\n",
      "231\n",
      "\n",
      "CTGGGCCTGGACCCAGCAGCCCTCTGGGAAGGCGCTGGGGCACCTCAGCTCCAGGGGCAGCACACACTTCAGCCCAGCCTTTCTGGGCCAACTCTCCATCTGTAGAGACACATCCAAGGCCCAGTTATCCCTGCAGCTGAGCTCCGTGATGGCCAAGGGCAGGGCCGCACATTCCCGTGGGACACAGCG-----------------------ACACAAACG------\n",
      "----------------TAGGGTTAGGGTTAGGGTTAGGGTTAGGGTTGGTTAGGGTTAGGGTTAGGGTTAGGGTTAGGGTT--AGGGTTAGGGTTAGGGTTAGGGGTTAGGGTTAGGGTTAGGGTTAGGGTTAGGGTTAGGGTCAGGGTTAGGGTTAGGCTTATAACCCTAACCCTAACCCTAACCCTAACCCTAACCCTAACCCTAACCCAACCCCAAACCCCAAC\n",
      "56.0\n",
      "17\n",
      "221\n",
      "\n",
      "CTGGGCCTGGACCCAGCAGCCCTCTGGGAAGGCGCTGGGGCACCTCAGCTCCAGGGGCAGCACACACTTCAGCCCAGCCTTTCTGGGCCAACTCTCCATCTGTAGAGACACATCCAAGGCCCAGTTATCCCTGCAGCTGAGCTCCGTGATGGCCAAGGGCAGGGCCGCACATTCCCGTGGGACACAGCG-----------------------ACACAAACG\n",
      "-----------------------------------ACCCTAACCCTAACCCTAACCCTAACCCTAACCCTAACCCAACCCTAACCCTAACCCTAACCCTAACCCTAACCCCAACCCTAACCC--TAACCCTAACCCTAAACCCAAGGTTAGGGTTAGGGTTAGGGTTAGGGTTAGGGTTAGGGTTGGGG--------------------------------\n",
      "51.0\n",
      "41\n",
      "189\n",
      "\n",
      "-------------CTGGGCCTGGACCCAGCAGCCCTCTGGGAAGGCGCTGGGGCACCTCAGCTCCAGGGGCAGCACACACTTCAGCCCAGCCTTTCTGGGCCAACTCTCCATCTGTAGAGACACATCCAAGGCCCAGTTATCCCTGCAGCTGAGCTCCGTGATGGCCAAGGGCAGGGCCGCACATTCCCGTGGGACACAGCG-----------------------ACACAAACG\n",
      "CCTAACCCTAACCCTAACCCTAACCCTAACCCAACCCTAACCCTAACCCTAACCCTTAACCCTAACCCTAAAACCCTAACCCTAACCCTAAAACCCTAACCCGAACCCGAACCCGAACCCGAACCCGAACCCGAACCCGAACCCTAACCCTGGGTTAGGGTTAGGGTTAGGGTTAGGGTTAGGGTTAGGGTTGGGGGTTGG---------------------------------\n",
      "64.0\n",
      "13\n",
      "201\n",
      "\n"
     ]
    }
   ],
   "source": [
    "# Greater penalty for opening\n",
    "for read in reads:\n",
    "    for x in pairwise2.align.localxs(allele, read.seq, -5, -1)[0]:\n",
    "        print(x)\n",
    "    print()"
   ]
  },
  {
   "cell_type": "markdown",
   "metadata": {},
   "source": [
    "That\\`s nice, no splits in template. Next take a look at alignments and scores in case of similar sequences or absolutely different"
   ]
  },
  {
   "cell_type": "code",
   "execution_count": 207,
   "metadata": {},
   "outputs": [
    {
     "name": "stdout",
     "output_type": "stream",
     "text": [
      "CTGGGCCTGGACCCAGCAGCCCTCTGGGAAGGCGCTGGGGCACCTCAGCTCCAGGGGCAGCACACACTTCAGCCCAGCCTTTCTGGGCCAACTCTCCATCTGTAGAGACACATCCAAGGCCCAGTTATCCCTGCAGCTGAGCTCCGTGATGGCCAAGGGCAGGGCCGCACATTCCCGTGGGACACAGCG-----------------------ACACAAACG\n",
      "CTGGGCCTGGACCCAGCAGCCCTCTGGGAAGGCGCTGGGGCACCTCAGCTCCAGGGGCAGCACACACTTCAGCCCAGCCTTTCTGGGCCAACTCTCCATCTGTAGAGACACATCCAAGGCCCAGTTATCCCTGCAGCTGAGCTCCGTGAT-----------------------------------------------------------------------\n",
      "150.0\n",
      "0\n",
      "150\n",
      "\n",
      "CTGGGCCTGGACCCAGCAGCCCTCTGGGAAGGCGCTGGGGCACCTCAGCTCCAGGGGCAGCACACACTTCAGCCCAGCCTTTCTGGGCCAACTCTCCATCTGTAGAGACACATCCAAGGCCCAGTTATCCCTGCAGCTGAGCTCCGTGATGGCCAAGGGCAGGGCCGCACATTCCCGTGGGACACAGCG-----------------------ACACAAACG\n",
      "--------------------CCTCTGGGAAGGCGCTGGGGCACCTCAGCTCCAGGGGCAGCACACACTTCAGCCCAGCCTTTCTGGGCCAACTCTCCATCTGTAGAGACACATCCAAGGCCCAGTTATCCCTGCAGCTGAGCTCCGTGATGGCCAAGGGCAG-----------------------------------------------------------\n",
      "142.0\n",
      "20\n",
      "162\n",
      "\n",
      "CTGGGCCTGGACCCAGCAGCCCTCTGGGAAGGCGCTGGGGCACCTCAGCTCCAGGGGCAGCACACACTTCAGCCCAGCCTTTCTGGGCCAACTCTCCATCTGTAGAGACACATCCAAGGCCCAGTTATCCCTGCAGCTGAGCTCCGTGATGGCCAAGGGCAGGGCCGCACATTCCCGTGGGACACAGCG-----------------------ACACAAACG\n",
      "--------------------------------------------------------------------------------TTCTGGGCCAACTCTCCATCTGTAGAGACACATCCAAGGCCCAGTTATCCCTGCAGCTGAGCTCCGTGATGGCCAAGGGCAGGGCCGCACATTCCCGTGGGA---------------------------------------\n",
      "102.0\n",
      "80\n",
      "182\n",
      "\n",
      "CTGGGCCTGGACCCAGCAGCCCTCTGGGAAGGCGCTGGGGCACCTCAGCTCCAGGGGCAGCACACACTTCAGCCCAGCCTTTCTGGGCCAACTCTCCATCTGTAGAGACACATCCAAGGCCCAGTTATCCCTGCAGCTGAGCTCCGTGATGGCCAAGGGCAGGGCCGCACATTCCCGTGGGACACAGCG-----------------------ACACAAACG\n",
      "--------------------------------------------------------------------------------TTCTGGGCCAACTCTCCATCTGTAGAGACACATCCAAGGCCCAGTTATCCCTGCAGCTGAGCTCCGTGATGGCCAAGGGCAGGGCCGCACATTCCCGTGGGACACAGCG--------------------------------\n",
      "109.0\n",
      "80\n",
      "189\n",
      "\n",
      "CTGGGCCTGGACCCAGCAGCCCTCTGGGAAGGCGCTGGGGCACCTCAGCTCCAGGGGCAGCACACACTTCAGCCCAGCCTTTCTGGGCCAACTCTCCATCTGTAGAGACACATCCAAGGCCCAGTTATCCCTGCAGCTGAGCTCCGTGATGGCCAAGGGCAGGGCCGCACATTCCCGTGGGACACAGCG-----------------------ACACAAACG\n",
      "----------------------------------------------------------------------------------------------------TGTAGAGACACATCCAAGGCCCAGTTATCCCTGCAGCTGAGCTCCGTGATGGCCAAGGGCAGGGCCGCACATTCCCGTGGGACACAGCG--------------------------------\n",
      "89.0\n",
      "100\n",
      "189\n",
      "\n",
      "CTGGGCCTGGACCCAGCAGCCCTCTGGGAAGGCGCTGGGGCACCTCAGCTCCAGGGGCAGCACACACTTCAGCCCAGCCTTTCTGGGCCAACTCTCCATCTGTAGAGACACATCCAAGGCCCAGTTATCCCTGCAGCTGAGCTCCGTGATGGCCAAGGGCAGGGCCGCACATTCCCGTGGGACACAGCG-----------------------ACACAAACG\n",
      "--------------------------------------------------------------------------------------------------------------------------------------------------------------------------------------CACAGCG-----------------------ACACAAACG\n",
      "39.0\n",
      "182\n",
      "221\n",
      "\n"
     ]
    }
   ],
   "source": [
    "# There are several variants which part of v segment read can contain - first part of core sequence,\n",
    "# almost all core sequence, last part of core sequence plus 7-9-mers, both 7-9-mers or just nonamer.\n",
    "prime_core = allele[:150]\n",
    "core = allele[20:len(allele) - 59]\n",
    "last_core = allele[80:len(allele) - 39]\n",
    "core_hept = allele[80:len(allele) - 32]\n",
    "core_conserved = allele[100:len(allele) - 32]\n",
    "conserved_spacer = allele[len(allele) - 39:]\n",
    "\n",
    "for part in (prime_core, core, last_core, core_hept, core_conserved, conserved_spacer):\n",
    "    for x in pairwise2.align.localxs(allele, part, -5, -1)[0]:\n",
    "        print(x)\n",
    "    print()"
   ]
  },
  {
   "cell_type": "markdown",
   "metadata": {},
   "source": [
    "While sequences identical everything maps nice. Now cases with mismatches and read random ends"
   ]
  },
  {
   "cell_type": "code",
   "execution_count": 198,
   "metadata": {},
   "outputs": [
    {
     "name": "stdout",
     "output_type": "stream",
     "text": [
      "CTGGGCCTGGACCCAGCAGCCCTCTGGGAAGGCGCTGGGGCACCTCAGCTCCAGGGGCAGCACACACTTCAGCCCAGCCTTTCTGGGCCAACTCTCCATCTGTAGAGACACATCCAAGGCCCAGTTATCCCTGCAGCTGAGCTCCGTGATGGCCAAGGGCAGGGCCGCACATTCCCGTGGGACACAGCG-----------------------ACACAAACG\n",
      "-----------CACAGCGTACCTATTCTCAAACCTTTTGACACACAAACG---------------------------------------------------------------------------------------------------------------------------------------------------------------------------\n",
      "18.0\n",
      "11\n",
      "50\n",
      "\n",
      "CTGGGCCTGGACCCAGCAGCCCTCTGGGAAGGCGCTGGGGCACCTCAGCTCCAGGGGCAGCACACACTTCAGCCCAGCCTTTCTGGGCCAACTCTCCATCTGTAGAGACACATCCAAGGCCCAGTTATCCCTGCAGCTGAGCTCCGTGATGGCCAAGGGCAGGGCCGCACATTCCCGTGGGACACAGCG-----------------------ACACAAACG\n",
      "-------------------------------------------------------------------------------------------------------------------------------------------------------------------------------------------------------------CACAGCGACACAAACG\n",
      "9.0\n",
      "212\n",
      "221\n",
      "\n"
     ]
    }
   ],
   "source": [
    "conserved_with_random_spacer = 'CACAGCG' + create_spacer(23) + 'ACACAAACG'\n",
    "just_conserved = 'CACAGCG' + 'ACACAAACG'\n",
    "for part in [conserved_with_random_spacer, just_conserved]:\n",
    "    for x in pairwise2.align.localxs(allele, part, -5, -1)[0]:\n",
    "        print(x)\n",
    "    print()"
   ]
  },
  {
   "cell_type": "markdown",
   "metadata": {},
   "source": [
    "It\\`s not good - part with 7-9-mers and random spacer aligned not to it counterpart. Let\\`s tweak match-mismatch scores."
   ]
  },
  {
   "cell_type": "code",
   "execution_count": 211,
   "metadata": {},
   "outputs": [
    {
     "name": "stdout",
     "output_type": "stream",
     "text": [
      "CTGGGCCTGGACCCAGCAGCCCTCTGGGAAGGCGCTGGGGCACCTCAGCTCCAGGGGCAGCACACACTTCAGCCCAGCCTTTCTGGGCCAACTCTCCATCTGTAGAGACACATCCAAGGCCCAGTTATCCCTGCAGCTGAGCTCCGTGATGGCCAAGGGCAGGGCCGCACATTCCCGTGGGACACAGCG-----------------------ACACAAACG\n",
      "--------------------------------------------------------------------------------------------------------------------------------------------------------------------------------------CACAGCGAGTGGAGCAAATATAACGAAGGAACACAAACG\n",
      "9.0\n",
      "212\n",
      "221\n",
      "\n",
      "----------------------------------------------------------------------CTGGGCCTGGACCCAGCAGCCCTCTGGGAAGGCGCTGGGGCACCTCAGCTCCAGGGGCAGCACACACTTCAGCCCAGCCTTTCTGGGCCAACTCTCCATCTGTAGAGACACATCCAAGGCCCAGTTATCCCTGCAGCTGAGCTCCGTGATGGCCAAGGGCAGGGCCGCACATTCCCGTGGGACACAGCG-----------------------ACACAAACG\n",
      "ACATCATACTCTGGATCACGGGTACTCACCGACGACGATACGTTACCGGATCTGGACATCGTGAGCGAAACTGGGCCTGGACCCAGCAGCCCTCTGGGAAGGCGCTGGGGCACCTCAGCTCCAGGGGCAG-----------------------------------------------------------------------------------------------------------------------------------------------------------------\n",
      "60.0\n",
      "70\n",
      "130\n",
      "\n",
      "CTGGGCCTGGACCCAGCAGCCCTCTGGGAAGGCGCTGGGGCACCTCAGCTCCAGGGGCAGCACACACTTCAGCCCAGCCTTTCTGGGCCAACTCTCCATCTGTAGAGACACATCCAAGGCCCAGTTATCCCTGCAGCTGAGCTCCGTGATGGCCAAGGGCAGGGCCGCACATTCCCGTGGGACACAGCG-----------------------ACACAAACG\n",
      "---GGCCTGGACCCAGCAGCCCTCTGGGAAGGCGCTGGGGCACCTCAGCTCCAGGGGCAGCACACACTTCAGCCCAGCCTTTCTGGGCCAACTCTCCATCTGTAGAGACACATCC----------------------------------------------------------------------------------------------------------\n",
      "112.0\n",
      "3\n",
      "115\n",
      "\n",
      "CTGGGCCTGGACCCAGCAGCCCTCTGGGAAGGCGCTGGGGCACCTCAGCTCCAGGGGCAGCACACACTTCAGCCCAGCCTTTCTGGGCCAACTCTCCATCTGTAGAGACACATCCAAGGCCCAGTTATCCCTGCAGCTGAGCTCCGTGATGGCCAAGGGCAGGGCCGCACATTCCCGTGGGACACAGCG-----------------------ACACAAACG\n",
      "---------------------------------------------------------------------------------------------------------------------------------------------CTCCGTGATGGCCAAGGGCAGGGCCGCACATTCCCGTGGGACACAGCGCAGTGCCTATGTCAAGACCTCTT---------\n",
      "48.0\n",
      "141\n",
      "189\n",
      "\n",
      "CTGGGCCTGGACCCAGCAGCCCTCTGGGAAGGCGCTGGGGCACCTCAGCTCCAGGGGCAGCACACACTTCAGCCCAGCCTTTCTGGGCCAACTCTCCATCTGTAGAGACACATCCAAGGCCCAGTTATCCCTGCAGCTGAGCTCCGTGATGGCCAAGGGCAGGGCCGCACATTCCCGTGGGACACAGCG-----------------------ACACAAACG--------------------\n",
      "-------------------------------------------------------------------------------------------------------------------------------------------------------------GGCAGGGCCGCACATTCCCGTGGGACACAGCGTTATGCAGCAGATTGGCCAAACAACACAAACGTGAGGGCGTTTCATGTGGAT\n",
      "32.0\n",
      "157\n",
      "189\n",
      "\n",
      "CTGGGCCTGGACCCAGCAGCCCTCTGGGAAGGCGCTGGGGCACCTCAGCTCCAGGGGCAGCACACACTTCAGCCCAGCCTTTCTGGGCCAACTCTCCATCTGTAGAGACACATCCAAGGCCCAGTTATCCCTGCAGCTGAGCTCCGTGATGGCCAAGGGCAGGGCCGCACATTCCCGTGGGACACAGCG-----------------------ACACAAACG--------------------------------------------------------------------------------\n",
      "---------------------------------------------------------------------------------------------------------------------------------------------------------------------------------------------GACAACTGAGAACAGTGAACCCTACACAAACGTTCTCTACTTGAAGCCGTGGATTACAAGCACAAAACTCGGTATCTTCCGTAAGGGTTCAACCACAATTGGGCTTATACTG\n",
      "9.0\n",
      "212\n",
      "221\n",
      "\n",
      "CTGGGCCTGGACCCAGCAGCCCTCTGGGAAGGCGCTGGGGCACCTCAGCTCCAGGGGCAGCACACACTTCAGCCCAGCCTTTCTGGGCCAACTCTCCATCTGTAGAGACACATCCAAGGCCCAGTTATCCCTGCAGCTGAGCTCCGTGATGGCCAAGGGCAGGGCCGCACATTCCCGTGGGACACAGCG-----------------------ACACAAACG----------------------------------------------------------------------------------------------------\n",
      "--------------------------------------------------------------------------------------------------------------------------------------------------------------------------------------------------------------------ACACAAACGGTATAGGATGGTCTCGGGAAGGTCAGACGTAACCGGAAAGCAACTGACTGCATCGCTTCTGTTGCGATAGTATGATTGGGTACGATCTGACGAACAAACC\n",
      "9.0\n",
      "212\n",
      "221\n",
      "\n"
     ]
    }
   ],
   "source": [
    "# Same part with another score function\n",
    "conserved_with_random_spacer = 'CACAGCG' + create_spacer(23) + 'ACACAAACG'\n",
    "prime_part = create_spacer(70) + allele[:60]\n",
    "mid_part = allele[3:115]\n",
    "end_part = 'CTCCGTGATGGCCAAGGGCAGGGCCGCACATTCCCGTGGGACACAGCG' + create_spacer(23)\n",
    "really_end_part = 'GGCAGGGCCGCACATTCCCGTGGGACACAGCG' + create_spacer(23) + 'ACACAAACG' + create_spacer(20)\n",
    "nonamer_part = create_spacer(23) + 'ACACAAACG' + create_spacer(80)\n",
    "nonamer = 'ACACAAACG' + create_spacer(100)\n",
    "for part in [conserved_with_random_spacer, prime_part, mid_part, end_part, really_end_part, nonamer_part, nonamer]:\n",
    "    for x in pairwise2.align.localms(allele, part, 1, -2,  -5, -1)[0]:\n",
    "        print(x)\n",
    "    print()\n",
    "\n",
    "# Another parts"
   ]
  },
  {
   "cell_type": "markdown",
   "metadata": {},
   "source": [
    "Good, now everything same except some noise due to errors"
   ]
  },
  {
   "cell_type": "code",
   "execution_count": 227,
   "metadata": {},
   "outputs": [
    {
     "data": {
      "text/plain": [
       "'CTGGGCCTGGACCCAGCAGC'"
      ]
     },
     "execution_count": 227,
     "metadata": {},
     "output_type": "execute_result"
    }
   ],
   "source": [
    "nucl = 'A'\n",
    "for o in list(filter(lambda x: x != nucl, ['A', 'T', 'G', 'C']))[0]:\n",
    "    print(o)\n",
    "allele[:20]"
   ]
  },
  {
   "cell_type": "code",
   "execution_count": 229,
   "metadata": {},
   "outputs": [
    {
     "name": "stdout",
     "output_type": "stream",
     "text": [
      "CTGGGCCTGGACCCAGCAGCCCTCTGGGAAGGCGCTGGGGCACCTCAGCTCCAGGGGCAGCACACACTTCAGCCCAGCCTTTCTGGGCCAACTCTCCATCTGTAGAGACACATCCAAGGCCCAGTTATCCCTGCAGCTGAGCTCCGTGATGGCCAAGGGCAGGGCCGCACATTCCCGTGGGACACAGCG-----------------------ACACAAACG\n",
      "----------------------------------------------------------------------------------------------------------------------------------------CAAAGCGCCTTGTGCACTACTAAGCGCAGAACACATTCG----------------------------------------------\n",
      "7.0\n",
      "167\n",
      "174\n",
      "\n",
      "----------------------------------------------------------------------CTGGGCCTGGACCCAGCAGCCCTCTGGGAAGGCGCTGGGGCACCTCAGCTCCAGGGGCAGCACACACTTCAGCCCAGCCTTTCTGGGCCAACTCTCCATCTGTAGAGACACATCCAAGGCCCAGTTATCCCTGCAGCTGAGCTCCGTGATGGCCAAGGGCAGGGCCGCACATTCCCGTGGGACACAGCG-----------------------ACACAAACG\n",
      "GGAGTATTGTTCTGCGAACCTTTATTCACCAAGACGGTCCAGCAGGGGTCTGCTCAAATCATCATACGCACTGGGCCTGGACAAAACAGCCCTCTGGGAAGGCGCTGGAGCACCTCAGCTCCAAGGGCAG-----------------------------------------------------------------------------------------------------------------------------------------------------------------\n",
      "45.0\n",
      "70\n",
      "130\n",
      "\n",
      "CTGGGCCTGGACCCAGCAGCCCTCTGGGAAGGCGCTGGGGCACCTCAGCTCCAGGGGCAGCACACACTTCAGCCCAGCCTTTCTGGGCCAACTCTCCATCTGTAGAGACACATCCAAGGCCCAGTTATCCCTGCAGCTGAGCTCCGTGATGGCCAAGGGCAGGGCCGCACATTCCCGTGGGACACAGCG-----------------------ACACAAACG\n",
      "---GGCCTGGACCCTGCAGCCCTCAGGGAAGGCGCTGGAGCACCTCAACTACAGGGGCAGCACACACTTCAGACCAGACTTTCTGGGCCATCTCTCCATCTGTTGAGACACTTAA----------------------------------------------------------------------------------------------------------\n",
      "81.0\n",
      "3\n",
      "111\n",
      "\n",
      "CTGGGCCTGGACCCAGCAGCCCTCTGGGAAGGCGCTGGGGCACCTCAGCTCCAGGGGCAGCACACACTTCAGCCCAGCCTTTCTGGGCCAACTCTCCATCTGTAGAGACACATCCAAGGCCCAGTTATCCCTGCAGCTGAGCTCCGTGATGGCCAAGGGCAGGGCCGCACATTCCCGTGGGACACAGCG-----------------------ACACAAACG\n",
      "---------------------------------------------------------------------------------------------------------------------------------------------CTCCGTGATGACAAAGGGCAGAGCCGAACATTCCCGTGGGAAACAGAGACATGTTCCTTGCCGGCAGAATG---------\n",
      "31.0\n",
      "141\n",
      "187\n",
      "\n",
      "CTGGGCCTGGACCCAGCAGCCCTCTGGGAAGGCGCTGGGGCACCTCAGCTCCAGGGGCAGCACACACTTCAGCCCAGCCTTTCTGGGCCAACTCTCCATCTGTAGAGACACATCCAAGGCCCAGTTATCCCTGCAGCTGAGCTCCGTGATGGCCAAGGGCAGGGCCGCACATTCCCGTGGGACACAGCG-----------------------ACACAAACG--------------------\n",
      "-------------------------------------------------------------------------------------------------------------------------------------------------------------GGCAGGGCCGATCATTACCGTGGGACACAGCATTTGGCCGCGCTGGCGGGATCGGACACAAACGCAGCTCCCCTAAATTGTTTA\n",
      "22.0\n",
      "157\n",
      "188\n",
      "\n",
      "CTGGGCCTGGACCCAGCAGCCCTCTGGGAAGGCGCTGGGGCACCTCAGCTCCAGGGGCAGCACACACTTCAGCCCAGCCTTTCTGGGCCAACTCTCCATCTGTAGAGACACATCCAAGGCCCAGTTATCCCTGCAGCTGAGCTCCGTGATGGCCAAGGGCAGGGCCGCACATTCCCGTGGGACACAGCG-----------------------ACACAAACG\n",
      "-------------------------ACGTCGTGCGTATTGGGCTCGTAACACTATCGTCAACGTCCGGGTATAGGATTCGATGTGATCGTATCTCGGATAGGCTTAATCACATCGATTAAAGGTTCTGAATTGGCAC------------------------------------------------------------------------------------\n",
      "6.0\n",
      "108\n",
      "114\n",
      "\n",
      "CTGGGCCTGGACCCAGCAGCCCTCTGGGAAGGCGCTGGGGCACCTCAGCTCCAGGGGCAGCACACACTTCAGCCCAGCCTTTCTGGGCCAACTCTCCATCTGTAGAGACACATCCAAGGCCCAGTTATCCCTGCAGCTGAGCTCCGTGATGGCCAAGGGCAGGGCCGCACATTCCCGTGGGACACAGCG-----------------------ACACAAACG----------------------------------------------------------------------------------------------------\n",
      "--------------------------------------------------------------------------------------------------------------------------------------------------------------------------------------------------------------------ACACAAACGAGCCAATCGTTCAGTCGATCCTGGCAGATACTCCGATCAGCTAGTGTAAAAGCCTTCTACCAGTTGAGCAATGATCGGCTCTAACAGTTACGCACTTCAA\n",
      "9.0\n",
      "212\n",
      "221\n",
      "\n"
     ]
    }
   ],
   "source": [
    "# I`ve chosen error rate equal to 0.1 to play safe\n",
    "def sequencing(fragment, error_rate):\n",
    "    \"\"\"Return given fragment with some errors\"\"\"\n",
    "    return ''.join([nucl if random.random() > error_rate \n",
    "                    else list(filter(lambda x: x != nucl, ['A', 'T', 'G', 'C']))[0] \n",
    "                    for nucl in fragment])\n",
    "\n",
    "conserved_with_random_spacer = sequencing('CACAGCG', 0.1) + create_spacer(23) + sequencing('ACACAAACG', 0.1)\n",
    "prime_part = create_spacer(70) + sequencing(allele[:60], 0.1)\n",
    "mid_part = sequencing(allele[3:115], 0.1)\n",
    "end_part = sequencing('CTCCGTGATGGCCAAGGGCAGGGCCGCACATTCCCGTGGGACACAGCG', error_rate=0.1) + create_spacer(23)\n",
    "really_end_part = sequencing('GGCAGGGCCGCACATTCCCGTGGGACACAGCG', error_rate=0.1) + create_spacer(23) + sequencing('ACACAAACG', error_rate=0.1) + create_spacer(20)\n",
    "nonamer_part = create_spacer(23) + sequencing('ACACAAACG', error_rate=0.1) + create_spacer(80)\n",
    "nonamer = sequencing('ACACAAACG', error_rate=0.1) + create_spacer(100)\n",
    "for part in [conserved_with_random_spacer, prime_part, mid_part, end_part, really_end_part, nonamer_part, nonamer]:\n",
    "    for x in pairwise2.align.localms(allele, part, 1, -2,  -5, -1)[0]:\n",
    "        print(x)\n",
    "    print()"
   ]
  },
  {
   "cell_type": "markdown",
   "metadata": {},
   "source": [
    "Two fragments failed to align properly - both of them include just heptamer and/or nonamer, so these regions are not enough to align read if there are quite many substitutions in 7-9mers. Or sequenced read randomly similar to part of template."
   ]
  },
  {
   "cell_type": "code",
   "execution_count": 230,
   "metadata": {},
   "outputs": [
    {
     "name": "stdout",
     "output_type": "stream",
     "text": [
      "CTGGGCCTGGACCCAGCAGCCCTCTGGGAAGGCGCTGGGGCACCTCAGCTCCAGGGGCAGCACACACTTCAGCCCAGCCTTTCTGGGCCAACTCTCCATCTGTAGAGACACATCCAAGGCCCAGTTATCCCTGCAGCTGAGCTCCGTGATGGCCAAGGGCAGGGCCGCACATTCCCGTGGGACACAGCG-----------------------ACACAAACG\n",
      "--------------------------------------------------------------------------------------------------------------------------------------------------------------------------------------CACAGCGTCCTCAAGGGTGAGAACACGTAGACACAAACG\n",
      "9.0\n",
      "212\n",
      "221\n",
      "\n",
      "----------------------------------------------------------------------CTGGGCCTGGACCCAGCAGCCCTCTGGGAAGGCGCTGGGGCACCTCAGCTCCAGGGGCAGCACACACTTCAGCCCAGCCTTTCTGGGCCAACTCTCCATCTGTAGAGACACATCCAAGGCCCAGTTATCCCTGCAGCTGAGCTCCGTGATGGCCAAGGGCAGGGCCGCACATTCCCGTGGGACACAGCG-----------------------ACACAAACG\n",
      "GGTTTGGAGGGCCCTCGTGTGACAATGGAGCGTCTCCGGGCGCAAGAAGAAGAACCCGAACCAACTATGCCTGGGCCTGGACCCTGCAGCCCTCTAGGAAGGCGCTGGAGCACCTCAGCTCCAGGGGCAG-----------------------------------------------------------------------------------------------------------------------------------------------------------------\n",
      "51.0\n",
      "70\n",
      "130\n",
      "\n",
      "CTGGGCCTGGACCCAGCAGCCCTCTGGGAAGGCGCTGGGGCACCTCAGCTCCAGGGGCAGCACACACTTCAGCCCAGCCTTTCTGGGCCAACTCTCCATCTGTAGAGACACATCCAAGGCCCAGTTATCCCTGCAGCTGAGCTCCGTGATGGCCAAGGGCAGGGCCGCACATTCCCGTGGGACACAGCG-----------------------ACACAAACG\n",
      "---AGCCTGGACCAAGCAGCCCTCTGGGAAGGCGCTGGGGCAACTCAGCTCCAGGGGCAGAACACACTTAAGACCAGCCTTTCTGGGCCAACTCTCCATCTGTAGAGACACATCC----------------------------------------------------------------------------------------------------------\n",
      "96.0\n",
      "4\n",
      "115\n",
      "\n",
      "CTGGGCCTGGACCCAGCAGCCCTCTGGGAAGGCGCTGGGGCACCTCAGCTCCAGGGGCAGCACACACTTCAGCCCAGCCTTTCTGGGCCAACTCTCCATCTGTAGAGACACATCCAAGGCCCAGTTATCCCTGCAGCTGAGCTCCGTGATGGCCAAGGGCAGGGCCGCACATTCCCGTGGGACACAGCG-----------------------ACACAAACG\n",
      "---------------------------------------------------------------------------------------------------------------------------------------------CTCCGTGATGGCCAAGGGAAGGGCCGCACATACCCGTGGGACACAGCGCATTCGGACCTATACACACACGT---------\n",
      "42.0\n",
      "141\n",
      "189\n",
      "\n",
      "CTGGGCCTGGACCCAGCAGCCCTCTGGGAAGGCGCTGGGGCACCTCAGCTCCAGGGGCAGCACACACTTCAGCCCAGCCTTTCTGGGCCAACTCTCCATCTGTAGAGACACATCCAAGGCCCAGTTATCCCTGCAGCTGAGCTCCGTGATGGCCAAGGGCAGGGCCGCACATTCCCGTGGGACACAGCG-----------------------ACACAAACG--------------------\n",
      "-------------------------------------------------------------------------------------------------------------------------------------------------------------GGCAAGGCCGCACATTCCCGTGGGACACAGCGTGTTTTTGATTTCCCCATCGGAAACACAAACGGTTAAAGGAGTGATGTCCGG\n",
      "29.0\n",
      "157\n",
      "189\n",
      "\n",
      "CTGGGCCTGGACCCAGCAGCCCTCTGGGAAGGCGCTGGGGCACCTCAGCTCCAGGGGCAGCACACACTTCAGCCCAGCCTTTCTGGGCCAACTCTCCATCTGTAGAGACACATCCAAGGCCCAGTTATCCCTGCAGCTGAGCTCCGTGATGGCCAAGGGCAGGGCCGCACATTCCCGTGGGACACAGCG-----------------------ACACAAACG--------------------------------------------------------------------------------\n",
      "---------------------------------------------------------------------------------------------------------------------------------------------------------------------------------------------AGTAAAGTCCACCTGAAGACCTGACACTAACGGGCATACTCGGAGATTCATCAGTGTTTGGTGCCCAGGAATCACGTGTGGCCGTCGGATGTCTACCTTGCACCTAGACGGA\n",
      "6.0\n",
      "212\n",
      "221\n",
      "\n",
      "CTGGGCCTGGACCCAGCAGCCCTCTGGGAAGGCGCTGGGGCACCTCAGCTCCAGGGGCAGCACACACTTCAGCCCAGCCTTTCTGGGCCAACTCTCCATCTGTAGAGACACATCCAAGGCCCAGTTATCCCTGCAGCTGAGCTCCGTGATGGCCAAGGGCAGGGCCGCACATTCCCGTGGGACACAGCG-----------------------ACACAAACG------------------------------------------\n",
      "----------------------------------------------------------------------------------------------------------------------------------------------------------ACACATACGCTGGGCAATCAACATGCGATTGACACGGTCGAGGTCTTTGACGTACGTCCCACAAACATAACTAGGCTACCATTAAAAGGTTGCCCATTCGACTAGGGAA\n",
      "7.0\n",
      "213\n",
      "220\n",
      "\n"
     ]
    }
   ],
   "source": [
    "# Same as previous cell, just lower error rate - 0.05\n",
    "conserved_with_random_spacer = sequencing('CACAGCG', 0.05) + create_spacer(23) + sequencing('ACACAAACG', 0.05)\n",
    "prime_part = create_spacer(70) + sequencing(allele[:60], 0.05)\n",
    "mid_part = sequencing(allele[3:115], 0.05)\n",
    "end_part = sequencing('CTCCGTGATGGCCAAGGGCAGGGCCGCACATTCCCGTGGGACACAGCG', error_rate=0.05) + create_spacer(23)\n",
    "really_end_part = sequencing('GGCAGGGCCGCACATTCCCGTGGGACACAGCG', error_rate=0.05) + create_spacer(23) + sequencing('ACACAAACG', error_rate=0.05) + create_spacer(20)\n",
    "nonamer_part = create_spacer(23) + sequencing('ACACAAACG', error_rate=0.05) + create_spacer(80)\n",
    "nonamer = sequencing('ACACAAACG', error_rate=0.05) + create_spacer(100)\n",
    "for part in [conserved_with_random_spacer, prime_part, mid_part, end_part, really_end_part, nonamer_part, nonamer]:\n",
    "    for x in pairwise2.align.localms(allele, part, 1, -2,  -5, -1)[0]:\n",
    "        print(x)\n",
    "    print()"
   ]
  },
  {
   "cell_type": "markdown",
   "metadata": {},
   "source": [
    "1 fragment still unaligned but it is better. With lower error rate this approach shows better results. As you can see score of alignment is proportional to the size of aligned fragment (obviously) and it ranges from ~5 to ~100 in cases of nonamer and 100nt accordingly."
   ]
  },
  {
   "cell_type": "code",
   "execution_count": 239,
   "metadata": {},
   "outputs": [
    {
     "name": "stdout",
     "output_type": "stream",
     "text": [
      "CTGGGCCTGGACCCAGCAGCCCTCTGGGAAGGCGCTGGGGCACCTCAGCTCCAGGGGCAGCACACACTTCAGCCCAGCCTTTCTGGGCCAACTCTCCATCTGTAGAGACACATCCAAGGCCCAGTTATCCCTGCAGCTGAGCTCCGTGATGGCCAAGGGCAGGGCCGCACATTCCCGTGGGACACAGCG-----------------------ACACAAACG---------------------------------------------------------------------------------------------------------------------\n",
      "---------------------------------------------------------------------------------------------------------------------TCAACTTACACGGGTCGTCTTAAGGTTACTTAAAACAAATACAGGGGAAAGGGATAAAGTGCGTTCTGCGGATGTGAGAAAAGGACATAGTGATCGTTCAAACGATCGAGTTATTGCAATGTGTGCGGGTGATTGCTGCGATAATAGCCAAATGTTTATATAATGTTGTTCACTATTACACGATGCTGAGTTTATAGCCCCCTCGACGCAACGTCTCCTTA\n",
      "6.0\n",
      "215\n",
      "221\n",
      "\n",
      "--------------------------CTGGGCCTGGACCCAGCAGCCCTCTGGGAAGGCGCTGGGGCACCTCAGCTCCAGGGGCAGCACACACTTCAGCCCAGCCTTTCTGGGCCAACTCTCCATCTGTAGAGACACATCCAAGGCCCAGTTATCCCTGCAGCTGAGCTCCGTGATGGCCAAGGGCAGGGCCGCACATTCCCGTGGGACACAGCG-----------------------ACACAAACG\n",
      "TATCCAGCTAGGAAGATTCAAATACGTGACGAATTCTGTAATTCCGCTCCCATGTGATGCTTCTGTCAAGCTCCCAGATAGCAATTGCTTCGAGGAGAAGTTGAATGCCATAGTGGTGTCGAAGCTCGTCCAGACTGGACTAGGGGGAATTAACGCCTGCAGGTGCGGCATTTCGAATATGGTTATCGATCACTTATGAG-----------------------------------------------\n",
      "7.0\n",
      "155\n",
      "165\n",
      "\n",
      "--------------------------CTGGGCCTGGACCCAGCAGCCCTCTGGGAAGGCGCTGGGGCACCTCAGCTCCAGGGGCAGCACACACTTCAGCCCAGCCTTTCTGGGCCAACTCTCCATCTGTAGAGACACATCCAAGGCCCAGTTATCCCTGCAGCTGAGCTCCGTGATGGCCAAGGGCAGGGCCGCACATTCCCGTGGGACACAGCG-----------------------ACACAAACG\n",
      "TATCCAGCTAGGAAGATTCAAATACGTGACGAATTCTGTAATTCCGCTCCCATGTGATGCTTCTGTCAAGCTCCCAGATAGCAATTGCTTCGAGGAGAAGTTGAATGCCATAGTGGTGTCGAAGCTCGTCCAGACTGGACTAGGGGGAATTAACGCCTGCAGGTGCGGCATTTCGAATATGGTTATCGATCACTTATGAG-----------------------------------------------\n",
      "7.0\n",
      "155\n",
      "165\n",
      "\n"
     ]
    }
   ],
   "source": [
    "# Alignment of different sequence\n",
    "no_similarity_equal = ''.join([random.choice(list(filter(lambda x: x != nucl, ['A', 'T', 'G', 'C']))) for nucl in allele])\n",
    "no_similarity_shorter = ''.join([random.choice(list(filter(lambda x: x != nucl, ['A', 'T', 'G', 'C']))) \n",
    "                                 for nucl in range(200)])\n",
    "no_similarity_longer = ''.join([random.choice(list(filter(lambda x: x != nucl, ['A', 'T', 'G', 'C']))) \n",
    "                                for nucl in range(300)])\n",
    "for part in [no_similarity_equal, no_similarity_shorter, no_similarity_shorter]:\n",
    "    for x in pairwise2.align.localms(allele, part, 1, -2,  -5, -1)[0]:\n",
    "        print(x)\n",
    "    print()"
   ]
  },
  {
   "cell_type": "markdown",
   "metadata": {},
   "source": [
    "Good news - score is low, bad - we can\\`t distinguish by score read with nonamer from irrelevant read."
   ]
  },
  {
   "cell_type": "markdown",
   "metadata": {},
   "source": [
    "## Conclusion\n",
    "1. pairwise2.align.localms function with following parameters\n",
    "    - match = 1\n",
    "    - mismatch = -2\n",
    "    - gap opening = -5\n",
    "    - gap extension = -1\n",
    "   \n",
    "   looks suitable for our task\n",
    "2. It is possible to find reads with long stretches of template sequence by alignment score\n",
    "3. It looks hard to differ reads with short stretches of template sequence (<20) by alignment score. Probably we should use another method for it"
   ]
  },
  {
   "cell_type": "code",
   "execution_count": 114,
   "metadata": {
    "scrolled": true
   },
   "outputs": [
    {
     "data": {
      "text/plain": [
       "10"
      ]
     },
     "execution_count": 114,
     "metadata": {},
     "output_type": "execute_result"
    }
   ],
   "source": [
    "SeqIO.write(cores, '10cores', 'fasta')"
   ]
  },
  {
   "cell_type": "code",
   "execution_count": 117,
   "metadata": {},
   "outputs": [],
   "source": [
    "from v_segment_generation import combinations\n",
    "\n",
    "\n",
    "path_to_genes = '10cores'\n",
    "path_to_heptamers='../data/conserve/hv7'\n",
    "path_to_nonamers='../data/conserve/hv9'\n",
    "length=23\n",
    "monomers=('A', 'T', 'G', 'C')\n",
    "cum_distribution=(0.25, 0.5, 0.75, 1)\n",
    "\n",
    "vs = combinations(path_to_genes = '10cores',\n",
    "path_to_heptamers='../data/conserve/hv7',\n",
    "path_to_nonamers='../data/conserve/hv9',\n",
    "length=23,\n",
    "monomers=('A', 'T', 'G', 'C'),\n",
    "cum_distribution=(0.25, 0.5, 0.75, 1))"
   ]
  },
  {
   "cell_type": "code",
   "execution_count": 126,
   "metadata": {},
   "outputs": [
    {
     "name": "stdout",
     "output_type": "stream",
     "text": [
      "('CTGGGCCTGGACCCAGCAGCCCTCTGGGAAGGCGCTGGGGCACCTCAGCTCCAGGGGCAGCACACACTTCAGCCCAGCCTTTCTGGGCCAACTCTCCATCTGTAGAGACACATCCAAGGCCCAGTTATCCCTGCAGCTGAGCTCCGTGATGGCCAAGGGCAGGGCCGCACATTCCCGTGGGACACAGCGTCCCCTCGGCCCACCGGGGAACGACACAAACG', 'CTGGGCCTGGACCCAGCAGCCCTCTGGGAAGGCGCTGGGGCACCTCAGCTCCAGGGGCAGCACACACTTCAGCCCAGCCTTTCTGGGCCAACTCTCCATCTGTAGAGACACATCCAAGGCCCAGTTATCCCTGCAGCTGAGCTCCGTGATGGCCAAGGGCAGGGCCGCACA-T----T----C-C--CG-----T-----------GG---G------A--', 182.0, 0, 219)\n"
     ]
    }
   ],
   "source": [
    "print(pairwise2.align.localxx(vs[0], str(reads[0].seq))[0])"
   ]
  },
  {
   "cell_type": "code",
   "execution_count": 89,
   "metadata": {},
   "outputs": [],
   "source": [
    "f = '''CLUSTAL X (1.81) multiple sequence alignment\n",
    "\n",
    "\n",
    "COATB_BPIKE/30-81                   AEPNAATNYATEAMDSLKTQAIDLISQTWPVVTTVVVAGLVIRLFKKFSS\n",
    "Q9T0Q8_BPIKE/1-52                   AEPNAATNYATEAMDSLKTQAIDLISQTWPVVTTVVVAGLVIKLFKKFVS\n",
    "COATB_BPI22/32-83                   DGTSTATSYATEAMNSLKTQATDLIDQTWPVVTSVAVAGLAIRLFKKFSS\n",
    "COATB_BPM13/24-72                   AEGDDP---AKAAFNSLQASATEYIGYAWAMVVVIVGATIGIKLFKKFTS\n",
    "COATB_BPZJ2/1-49                    AEGDDP---AKAAFDSLQASATEYIGYAWAMVVVIVGATIGIKLFKKFAS\n",
    "Q9T0Q9_BPFD/1-49                    AEGDDP---AKAAFDSLQASATEYIGYAWAMVVVIVGATIGIKLFKKFTS\n",
    "COATB_BPIF1/22-73                   FAADDATSQAKAAFDSLTAQATEMSGYAWALVVLVVGATVGIKLFKKFVS\n",
    "\n",
    "COATB_BPIKE/30-81                   KA\n",
    "Q9T0Q8_BPIKE/1-52                   RA\n",
    "COATB_BPI22/32-83                   KA\n",
    "COATB_BPM13/24-72                   KA\n",
    "COATB_BPZJ2/1-49                    KA\n",
    "Q9T0Q9_BPFD/1-49                    KA\n",
    "COATB_BPIF1/22-73                   RA'''\n",
    "\n",
    "with open('f', 'w') as dest:\n",
    "    dest.write(f)"
   ]
  },
  {
   "cell_type": "code",
   "execution_count": 92,
   "metadata": {},
   "outputs": [
    {
     "name": "stdout",
     "output_type": "stream",
     "text": [
      "SingleLetterAlphabet() alignment with 7 rows and 52 columns\n",
      "AEPNAATNYATEAMDSLKTQAIDLISQTWPVVTTVVVAGLVIRL...SKA COATB_BPIKE/30-81\n",
      "AEPNAATNYATEAMDSLKTQAIDLISQTWPVVTTVVVAGLVIKL...SRA Q9T0Q8_BPIKE/1-52\n",
      "DGTSTATSYATEAMNSLKTQATDLIDQTWPVVTSVAVAGLAIRL...SKA COATB_BPI22/32-83\n",
      "AEGDDP---AKAAFNSLQASATEYIGYAWAMVVVIVGATIGIKL...SKA COATB_BPM13/24-72\n",
      "AEGDDP---AKAAFDSLQASATEYIGYAWAMVVVIVGATIGIKL...SKA COATB_BPZJ2/1-49\n",
      "AEGDDP---AKAAFDSLQASATEYIGYAWAMVVVIVGATIGIKL...SKA Q9T0Q9_BPFD/1-49\n",
      "FAADDATSQAKAAFDSLTAQATEMSGYAWALVVLVVGATVGIKL...SRA COATB_BPIF1/22-73\n"
     ]
    }
   ],
   "source": [
    "for i in AlignIO.parse('f', 'clustal'):\n",
    "    print(i)"
   ]
  },
  {
   "cell_type": "code",
   "execution_count": 234,
   "metadata": {},
   "outputs": [
    {
     "data": {
      "text/plain": [
       "221"
      ]
     },
     "execution_count": 234,
     "metadata": {},
     "output_type": "execute_result"
    }
   ],
   "source": []
  },
  {
   "cell_type": "code",
   "execution_count": 108,
   "metadata": {},
   "outputs": [
    {
     "name": "stdout",
     "output_type": "stream",
     "text": [
      "# STOCKHOLM 1.0\n",
      "#=GF SQ 8\n",
      "IGHV1-18*02 CAGGTTCAGCTGGTGCAGTCTGGAGCTGAGGTGAAGAAGCCTGGGGCCTCAGTGAAGGTCTCCTGCAAGGCTTCTGGTTACACCTTTACCAGCTATGGTATCAGCTGGGTGCGACAGGCCCCTGGACAAGGGCTTGAGTGGATGGGATGGATCAGCGCTTACAATGGTAACACAAACTATGCACAGAAGCTCCAGGGCAGAGTCACCATGACCACAGACACATCCACGAGCACAGCCTACATGGAGCTGAGGAGCCTAAGATCTGACGACACGGCC--------------------\n",
      "#=GS IGHV1-18*02 AC IGHV1-18*02\n",
      "#=GS IGHV1-18*02 DE IGHV1-18*02\n",
      "IGHV1-18*03 CAGGTTCAGCTGGTGCAGTCTGGAGCTGAGGTGAAGAAGCCTGGGGCCTCAGTGAAGGTCTCCTGCAAGGCTTCTGGTTACACCTTTACCAGCTATGGTATCAGCTGGGTGCGACAGGCCCCTGGACAAGGGCTTGAGTGGATGGGATGGATCAGCGCTTACAATGGTAACACAAACTATGCACAGAAGCTCCAGGGCAGAGTCACCATGACCACAGACACATCCACGAGCACAGCCTACATGGAGCTGAGGAGCCTGAGATCTGACGACATGGCCGTGTATTACTGTGCGAGAGA\n",
      "#=GS IGHV1-18*03 AC IGHV1-18*03\n",
      "#=GS IGHV1-18*03 DE IGHV1-18*03\n",
      "IGHV1-18*04 CAGGTTCAGCTGGTGCAGTCTGGAGCTGAGGTGAAGAAGCCTGGGGCCTCAGTGAAGGTCTCCTGCAAGGCTTCTGGTTACACCTTTACCAGCTACGGTATCAGCTGGGTGCGACAGGCCCCTGGACAAGGGCTTGAGTGGATGGGATGGATCAGCGCTTACAATGGTAACACAAACTATGCACAGAAGCTCCAGGGCAGAGTCACCATGACCACAGACACATCCACGAGCACAGCCTACATGGAGCTGAGGAGCCTGAGATCTGACGACACGGCCGTGTATTACTGTGCGAGAGA\n",
      "#=GS IGHV1-18*04 AC IGHV1-18*04\n",
      "#=GS IGHV1-18*04 DE IGHV1-18*04\n",
      "IGHV1-18*01 CAGGTTCAGCTGGTGCAGTCTGGAGCTGAGGTGAAGAAGCCTGGGGCCTCAGTGAAGGTCTCCTGCAAGGCTTCTGGTTACACCTTTACCAGCTATGGTATCAGCTGGGTGCGACAGGCCCCTGGACAAGGGCTTGAGTGGATGGGATGGATCAGCGCTTACAATGGTAACACAAACTATGCACAGAAGCTCCAGGGCAGAGTCACCATGACCACAGACACATCCACGAGCACAGCCTACATGGAGCTGAGGAGCCTGAGATCTGACGACACGGCCGTGTATTACTGTGCGAGAGA\n",
      "#=GS IGHV1-18*01 AC IGHV1-18*01\n",
      "#=GS IGHV1-18*01 DE IGHV1-18*01\n",
      "IGHV1-2*01 CAGGTGCAGCTGGTGCAGTCTGGGGCTGAGGTGAAGAAGCCTGGGGCCTCAGTGAAGGTCTCCTGCAAGGCTTCTGGATACACCTTCACCGGCTACTATATGCACTGGGTGCGACAGGCCCCTGGACAAGGGCTTGAGTGGATGGGACGGATCAACCCTAACAGTGGTGGCACAAACTATGCACAGAAGTTTCAGGGCAGGGTCACCAGTACCAGGGACACGTCCATCAGCACAGCCTACATGGAGCTGAGCAGGCTGAGATCTGACGACACGGTCGTGTATTACTGTGCGAGAGA\n",
      "#=GS IGHV1-2*01 AC IGHV1-2*01\n",
      "#=GS IGHV1-2*01 DE IGHV1-2*01\n",
      "IGHV1-2*03 CAGGTGCAGCTGGTGCAGTCTGGGGCTGAGGTGAAGAAGCTTGGGGCCTCAGTGAAGGTCTCCTGCAAGGCTTCTGGATACACCTTCACCGGCTACTATATGCACTGGGTGCNACAGGCCCCTGGACAAGGGCTTGAGTGGATGGGATGGATCAACCCTAACAGTGGTGGCACAAACTATGCACAGAAGTTTCAGGGCAGGGTCACCATGACCAGGGACACGTCCATCAGCACAGCCTACATGGAGCTGAGCAGGCTGAGATCTGACGACACGGCCGTGTATTACTGTGCGAGAGA\n",
      "#=GS IGHV1-2*03 AC IGHV1-2*03\n",
      "#=GS IGHV1-2*03 DE IGHV1-2*03\n",
      "IGHV1-2*02 CAGGTGCAGCTGGTGCAGTCTGGGGCTGAGGTGAAGAAGCCTGGGGCCTCAGTGAAGGTCTCCTGCAAGGCTTCTGGATACACCTTCACCGGCTACTATATGCACTGGGTGCGACAGGCCCCTGGACAAGGGCTTGAGTGGATGGGATGGATCAACCCTAACAGTGGTGGCACAAACTATGCACAGAAGTTTCAGGGCAGGGTCACCATGACCAGGGACACGTCCATCAGCACAGCCTACATGGAGCTGAGCAGGCTGAGATCTGACGACACGGCCGTGTATTACTGTGCGAGAGA\n",
      "#=GS IGHV1-2*02 AC IGHV1-2*02\n",
      "#=GS IGHV1-2*02 DE IGHV1-2*02\n",
      "IGHV1-2*04 CAGGTGCAGCTGGTGCAGTCTGGGGCTGAGGTGAAGAAGCCTGGGGCCTCAGTGAAGGTCTCCTGCAAGGCTTCTGGATACACCTTCACCGGCTACTATATGCACTGGGTGCGACAGGCCCCTGGACAAGGGCTTGAGTGGATGGGATGGATCAACCCTAACAGTGGTGGCACAAACTATGCACAGAAGTTTCAGGGCTGGGTCACCATGACCAGGGACACGTCCATCAGCACAGCCTACATGGAGCTGAGCAGGCTGAGATCTGACGACACGGCCGTGTATTACTGTGCGAGAGA\n",
      "#=GS IGHV1-2*04 AC IGHV1-2*04\n",
      "#=GS IGHV1-2*04 DE IGHV1-2*04\n",
      "//\n",
      "\n"
     ]
    }
   ],
   "source": []
  },
  {
   "cell_type": "code",
   "execution_count": 110,
   "metadata": {
    "scrolled": false
   },
   "outputs": [],
   "source": [
    "for i in pairwise2.align.localxx(allele.seq, reads[1])[0]:\n",
    "    print(i, end='\\n***\\n')\n"
   ]
  },
  {
   "cell_type": "code",
   "execution_count": 7,
   "metadata": {},
   "outputs": [
    {
     "name": "stdout",
     "output_type": "stream",
     "text": [
      "caggtgc-agctggtgcag-tctggggctgaggtgaagaagcctgggtcctcggtgaaggtctcctgcaaggcttctggaggcaccttcagcagctatg-ctatcagctgggtgcgacaggcccctggacaagggcttgagtggatgggag-ggatcatccctatct-ttggtac-agcaaactacgcacagaagttccagggcagagtcacgattaccgcggacgaa-tccacgagcacagcctacatggagctgagcagcctgagatctgaggacacggccgtgtattactgtgcgagaga\n",
      "|||||||||||||||||||||||||||||||||||||||||||||||||||||||||||||||||||||||||||||||||||||||||||||||||||||||||||||||||||||||||||||||||||||||||||||||||||||||||||||||||||||||||||||||||||||||||||||||||||||||||||||||||||||||||||||||||||||||||||||||||||||||||||||||||||||||||||||||||||||||||||||||||||||||||||||||\n",
      "caggt-ccagctggtgca-atctggggctgaggtgaagaagcctgggtcctcggtgaaggtctcctgcaaggcttctggaggcaccttcagcagctat-actatcagctgggtgcgacaggcccctggacaagggcttgagtggatggga-aggatcatccctatc-cttggta-tagcaaactacgcacagaagttccagggcagagtcacgattaccgcggac-aaatccacgagcacagcctacatggagctgagcagcctgagatctgaggacacggccgtgtattactgtgc--gaga\n",
      "  Score=287\n",
      "\n"
     ]
    }
   ],
   "source": [
    "fas = '''>L22582|IGHV1-69*01|Homo sapiens|F|V-REGION|376..671|296 nt|1| | | | |296+0=296| | |\n",
    "caggtgcagctggtgcagtctggggctgaggtgaagaagcctgggtcctcggtgaaggtc\n",
    "tcctgcaaggcttctggaggcaccttcagcagctatgctatcagctgggtgcgacaggcc\n",
    "cctggacaagggcttgagtggatgggagggatcatccctatctttggtacagcaaactac\n",
    "gcacagaagttccagggcagagtcacgattaccgcggacgaatccacgagcacagcctac\n",
    "atggagctgagcagcctgagatctgaggacacggccgtgtattactgtgcgagaga\n",
    ">Z27506|IGHV1-69*02|Homo sapiens|F|V-REGION|1..294|294 nt|1| | | | |294+0=294| | |\n",
    "caggtccagctggtgcaatctggggctgaggtgaagaagcctgggtcctcggtgaaggtc\n",
    "tcctgcaaggcttctggaggcaccttcagcagctatactatcagctgggtgcgacaggcc\n",
    "cctggacaagggcttgagtggatgggaaggatcatccctatccttggtatagcaaactac\n",
    "gcacagaagttccagggcagagtcacgattaccgcggacaaatccacgagcacagcctac\n",
    "atggagctgagcagcctgagatctgaggacacggccgtgtattactgtgcgaga'''\n",
    "\n",
    "x = pairwise2.align.globalxx('''caggtgcagctggtgcagtctggggctgaggtgaagaagcctgggtcctcggtgaaggtc\n",
    "tcctgcaaggcttctggaggcaccttcagcagctatgctatcagctgggtgcgacaggcc\n",
    "cctggacaagggcttgagtggatgggagggatcatccctatctttggtacagcaaactac\n",
    "gcacagaagttccagggcagagtcacgattaccgcggacgaatccacgagcacagcctac\n",
    "atggagctgagcagcctgagatctgaggacacggccgtgtattactgtgcgagaga'''.replace('\\n', ''), \n",
    "'''caggtccagctggtgcaatctggggctgaggtgaagaagcctgggtcctcggtgaaggtc\n",
    "tcctgcaaggcttctggaggcaccttcagcagctatactatcagctgggtgcgacaggcc\n",
    "cctggacaagggcttgagtggatgggaaggatcatccctatccttggtatagcaaactac\n",
    "gcacagaagttccagggcagagtcacgattaccgcggacaaatccacgagcacagcctac\n",
    "atggagctgagcagcctgagatctgaggacacggccgtgtattactgtgcgaga'''.replace('\\n', ''))\n",
    "print(format_alignment(*x[0]))"
   ]
  }
 ],
 "metadata": {
  "kernelspec": {
   "display_name": "Python 3",
   "language": "python",
   "name": "python3"
  },
  "language_info": {
   "codemirror_mode": {
    "name": "ipython",
    "version": 3
   },
   "file_extension": ".py",
   "mimetype": "text/x-python",
   "name": "python",
   "nbconvert_exporter": "python",
   "pygments_lexer": "ipython3",
   "version": "3.6.4"
  }
 },
 "nbformat": 4,
 "nbformat_minor": 2
}
